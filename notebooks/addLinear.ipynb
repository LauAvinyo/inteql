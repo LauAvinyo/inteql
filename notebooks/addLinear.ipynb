{
 "cells": [
  {
   "cell_type": "code",
   "execution_count": 1,
   "metadata": {},
   "outputs": [],
   "source": [
    "import pandas as pd\n",
    "import pybedtools\n",
    "from utils import *"
   ]
  },
  {
   "cell_type": "code",
   "execution_count": 2,
   "metadata": {},
   "outputs": [],
   "source": [
    "genes_top = set()\n",
    "header = True\n",
    "with open ('../data/GTEx_Analysis_2016-01-15_v7_RNASeQCv1.1.8_gene_tpm_top.tab') as f:\n",
    "    for line in f:\n",
    "        if header:\n",
    "            header = False\n",
    "            continue\n",
    "        genes_top.add(geneIdVersion2geneId(line.split()[0]))"
   ]
  },
  {
   "cell_type": "code",
   "execution_count": 3,
   "metadata": {},
   "outputs": [
    {
     "data": {
      "text/plain": [
       "5000"
      ]
     },
     "execution_count": 3,
     "metadata": {},
     "output_type": "execute_result"
    }
   ],
   "source": [
    "len(genes_top)"
   ]
  },
  {
   "cell_type": "code",
   "execution_count": 4,
   "metadata": {},
   "outputs": [
    {
     "data": {
      "text/html": [
       "<div>\n",
       "<style scoped>\n",
       "    .dataframe tbody tr th:only-of-type {\n",
       "        vertical-align: middle;\n",
       "    }\n",
       "\n",
       "    .dataframe tbody tr th {\n",
       "        vertical-align: top;\n",
       "    }\n",
       "\n",
       "    .dataframe thead th {\n",
       "        text-align: right;\n",
       "    }\n",
       "</style>\n",
       "<table border=\"1\" class=\"dataframe\">\n",
       "  <thead>\n",
       "    <tr style=\"text-align: right;\">\n",
       "      <th></th>\n",
       "      <th>gene_id</th>\n",
       "      <th>variant_id</th>\n",
       "      <th>Adipose_Subcutaneous</th>\n",
       "      <th>Adipose_Visceral_Omentum</th>\n",
       "      <th>Adrenal_Gland</th>\n",
       "      <th>Artery_Aorta</th>\n",
       "      <th>Artery_Coronary</th>\n",
       "      <th>Artery_Tibial</th>\n",
       "      <th>Brain_Amygdala</th>\n",
       "      <th>Brain_Anterior_cingulate_cortex_BA24</th>\n",
       "      <th>...</th>\n",
       "      <th>Skin_Sun_Exposed_Lower_leg</th>\n",
       "      <th>Small_Intestine_Terminal_Ileum</th>\n",
       "      <th>Spleen</th>\n",
       "      <th>Stomach</th>\n",
       "      <th>Testis</th>\n",
       "      <th>Thyroid</th>\n",
       "      <th>Uterus</th>\n",
       "      <th>Vagina</th>\n",
       "      <th>Whole_Blood</th>\n",
       "      <th>Cells_EBV-transformed_lymphocytes</th>\n",
       "    </tr>\n",
       "  </thead>\n",
       "  <tbody>\n",
       "    <tr>\n",
       "      <th>0</th>\n",
       "      <td>ENSG00000173801</td>\n",
       "      <td>17_39610981_A_G_b37</td>\n",
       "      <td>NaN</td>\n",
       "      <td>NaN</td>\n",
       "      <td>NaN</td>\n",
       "      <td>NaN</td>\n",
       "      <td>NaN</td>\n",
       "      <td>-0.146567</td>\n",
       "      <td>NaN</td>\n",
       "      <td>NaN</td>\n",
       "      <td>...</td>\n",
       "      <td>NaN</td>\n",
       "      <td>NaN</td>\n",
       "      <td>NaN</td>\n",
       "      <td>NaN</td>\n",
       "      <td>NaN</td>\n",
       "      <td>NaN</td>\n",
       "      <td>NaN</td>\n",
       "      <td>NaN</td>\n",
       "      <td>NaN</td>\n",
       "      <td>NaN</td>\n",
       "    </tr>\n",
       "    <tr>\n",
       "      <th>1</th>\n",
       "      <td>ENSG00000100219</td>\n",
       "      <td>22_29149887_G_C_b37</td>\n",
       "      <td>NaN</td>\n",
       "      <td>NaN</td>\n",
       "      <td>NaN</td>\n",
       "      <td>NaN</td>\n",
       "      <td>NaN</td>\n",
       "      <td>NaN</td>\n",
       "      <td>NaN</td>\n",
       "      <td>NaN</td>\n",
       "      <td>...</td>\n",
       "      <td>NaN</td>\n",
       "      <td>NaN</td>\n",
       "      <td>NaN</td>\n",
       "      <td>NaN</td>\n",
       "      <td>NaN</td>\n",
       "      <td>NaN</td>\n",
       "      <td>NaN</td>\n",
       "      <td>NaN</td>\n",
       "      <td>NaN</td>\n",
       "      <td>NaN</td>\n",
       "    </tr>\n",
       "    <tr>\n",
       "      <th>2</th>\n",
       "      <td>ENSG00000206341</td>\n",
       "      <td>6_29817896_C_T_b37</td>\n",
       "      <td>0.692326</td>\n",
       "      <td>0.712692</td>\n",
       "      <td>1.14229</td>\n",
       "      <td>0.531796</td>\n",
       "      <td>NaN</td>\n",
       "      <td>NaN</td>\n",
       "      <td>NaN</td>\n",
       "      <td>0.689146</td>\n",
       "      <td>...</td>\n",
       "      <td>0.941748</td>\n",
       "      <td>NaN</td>\n",
       "      <td>0.826604</td>\n",
       "      <td>0.658147</td>\n",
       "      <td>0.427333</td>\n",
       "      <td>0.473418</td>\n",
       "      <td>NaN</td>\n",
       "      <td>NaN</td>\n",
       "      <td>0.794383</td>\n",
       "      <td>1.03219</td>\n",
       "    </tr>\n",
       "    <tr>\n",
       "      <th>3</th>\n",
       "      <td>ENSG00000198502</td>\n",
       "      <td>6_32226520_T_G_b37</td>\n",
       "      <td>NaN</td>\n",
       "      <td>NaN</td>\n",
       "      <td>NaN</td>\n",
       "      <td>NaN</td>\n",
       "      <td>-0.591224</td>\n",
       "      <td>-0.307221</td>\n",
       "      <td>NaN</td>\n",
       "      <td>NaN</td>\n",
       "      <td>...</td>\n",
       "      <td>-0.379419</td>\n",
       "      <td>NaN</td>\n",
       "      <td>NaN</td>\n",
       "      <td>-0.374231</td>\n",
       "      <td>NaN</td>\n",
       "      <td>-0.439161</td>\n",
       "      <td>NaN</td>\n",
       "      <td>NaN</td>\n",
       "      <td>-0.317301</td>\n",
       "      <td>NaN</td>\n",
       "    </tr>\n",
       "    <tr>\n",
       "      <th>4</th>\n",
       "      <td>ENSG00000112763</td>\n",
       "      <td>6_26601733_G_T_b37</td>\n",
       "      <td>NaN</td>\n",
       "      <td>NaN</td>\n",
       "      <td>NaN</td>\n",
       "      <td>NaN</td>\n",
       "      <td>NaN</td>\n",
       "      <td>NaN</td>\n",
       "      <td>NaN</td>\n",
       "      <td>NaN</td>\n",
       "      <td>...</td>\n",
       "      <td>NaN</td>\n",
       "      <td>NaN</td>\n",
       "      <td>NaN</td>\n",
       "      <td>NaN</td>\n",
       "      <td>NaN</td>\n",
       "      <td>NaN</td>\n",
       "      <td>NaN</td>\n",
       "      <td>NaN</td>\n",
       "      <td>0.225490</td>\n",
       "      <td>NaN</td>\n",
       "    </tr>\n",
       "  </tbody>\n",
       "</table>\n",
       "<p>5 rows × 50 columns</p>\n",
       "</div>"
      ],
      "text/plain": [
       "           gene_id           variant_id  Adipose_Subcutaneous  \\\n",
       "0  ENSG00000173801  17_39610981_A_G_b37                   NaN   \n",
       "1  ENSG00000100219  22_29149887_G_C_b37                   NaN   \n",
       "2  ENSG00000206341   6_29817896_C_T_b37              0.692326   \n",
       "3  ENSG00000198502   6_32226520_T_G_b37                   NaN   \n",
       "4  ENSG00000112763   6_26601733_G_T_b37                   NaN   \n",
       "\n",
       "   Adipose_Visceral_Omentum  Adrenal_Gland  Artery_Aorta  Artery_Coronary  \\\n",
       "0                       NaN            NaN           NaN              NaN   \n",
       "1                       NaN            NaN           NaN              NaN   \n",
       "2                  0.712692        1.14229      0.531796              NaN   \n",
       "3                       NaN            NaN           NaN        -0.591224   \n",
       "4                       NaN            NaN           NaN              NaN   \n",
       "\n",
       "   Artery_Tibial  Brain_Amygdala  Brain_Anterior_cingulate_cortex_BA24  ...  \\\n",
       "0      -0.146567             NaN                                   NaN  ...   \n",
       "1            NaN             NaN                                   NaN  ...   \n",
       "2            NaN             NaN                              0.689146  ...   \n",
       "3      -0.307221             NaN                                   NaN  ...   \n",
       "4            NaN             NaN                                   NaN  ...   \n",
       "\n",
       "   Skin_Sun_Exposed_Lower_leg  Small_Intestine_Terminal_Ileum    Spleen  \\\n",
       "0                         NaN                             NaN       NaN   \n",
       "1                         NaN                             NaN       NaN   \n",
       "2                    0.941748                             NaN  0.826604   \n",
       "3                   -0.379419                             NaN       NaN   \n",
       "4                         NaN                             NaN       NaN   \n",
       "\n",
       "    Stomach    Testis   Thyroid  Uterus  Vagina  Whole_Blood  \\\n",
       "0       NaN       NaN       NaN     NaN     NaN          NaN   \n",
       "1       NaN       NaN       NaN     NaN     NaN          NaN   \n",
       "2  0.658147  0.427333  0.473418     NaN     NaN     0.794383   \n",
       "3 -0.374231       NaN -0.439161     NaN     NaN    -0.317301   \n",
       "4       NaN       NaN       NaN     NaN     NaN     0.225490   \n",
       "\n",
       "   Cells_EBV-transformed_lymphocytes  \n",
       "0                                NaN  \n",
       "1                                NaN  \n",
       "2                            1.03219  \n",
       "3                                NaN  \n",
       "4                                NaN  \n",
       "\n",
       "[5 rows x 50 columns]"
      ]
     },
     "execution_count": 4,
     "metadata": {},
     "output_type": "execute_result"
    }
   ],
   "source": [
    "data = pd.read_csv('../data/GTEx_Analysis_v7_eQTL_allTissues_slope_top.csv.gz')\n",
    "data['gene_id'] = data['gene_id'].apply(geneIdVersion2geneId)\n",
    "data.head()"
   ]
  },
  {
   "cell_type": "code",
   "execution_count": 5,
   "metadata": {},
   "outputs": [
    {
     "data": {
      "text/plain": [
       "(1349165, 50)"
      ]
     },
     "execution_count": 5,
     "metadata": {},
     "output_type": "execute_result"
    }
   ],
   "source": [
    "# Filter by top genes\n",
    "data = data[data['gene_id'].apply(lambda x: x in genes_top)]\n",
    "data.shape"
   ]
  },
  {
   "cell_type": "code",
   "execution_count": 6,
   "metadata": {},
   "outputs": [],
   "source": [
    "data = data[pd.isna(data['Cells_EBV-transformed_lymphocytes']).apply(lambda x: not(x))]"
   ]
  },
  {
   "cell_type": "code",
   "execution_count": 7,
   "metadata": {},
   "outputs": [
    {
     "data": {
      "text/plain": [
       "(51259, 50)"
      ]
     },
     "execution_count": 7,
     "metadata": {},
     "output_type": "execute_result"
    }
   ],
   "source": [
    "data.shape"
   ]
  },
  {
   "cell_type": "raw",
   "metadata": {},
   "source": [
    "# For the PCA and tsne I am going to use only the eQTLs presents everywhere\n",
    "dimData = data.dropna()\n",
    "dimData.shape"
   ]
  },
  {
   "cell_type": "raw",
   "metadata": {},
   "source": [
    "dimData.to_csv('../data/GTEx_Analysis_v7_eQTL_allTissues_slope_top_complete.csv.gz', index=False, compression='gzip')"
   ]
  },
  {
   "cell_type": "code",
   "execution_count": 8,
   "metadata": {},
   "outputs": [
    {
     "data": {
      "text/plain": [
       "20627"
      ]
     },
     "execution_count": 8,
     "metadata": {},
     "output_type": "execute_result"
    }
   ],
   "source": [
    "sum(pd.isnull(data).sum(axis=1) / (len(data.columns) - 2) < 0.5)"
   ]
  },
  {
   "cell_type": "code",
   "execution_count": 9,
   "metadata": {},
   "outputs": [],
   "source": [
    "pairs_vg = tuple(zip(data['variant_id'], data['gene_id'].apply(geneIdVersion2geneId)))"
   ]
  },
  {
   "cell_type": "code",
   "execution_count": 10,
   "metadata": {},
   "outputs": [],
   "source": [
    "# Variant id to enhancer table\n",
    "enhancers_f = '../../../prototype/enhancers.bed'"
   ]
  },
  {
   "cell_type": "code",
   "execution_count": 11,
   "metadata": {},
   "outputs": [],
   "source": [
    "# Variant bed table\n",
    "variants = pybedtools.BedTool.from_dataframe(pd.DataFrame({\n",
    "    'variant_chr': data['variant_id'].apply(variantId2chr),\n",
    "    'variant_start': data['variant_id'].apply(variantId2pos),\n",
    "    'variant_end': data['variant_id'].apply(variantId2end),\n",
    "    'variant_id': data['variant_id']})\\\n",
    "    .reindex(columns=['variant_chr', 'variant_start', 'variant_end', 'variant_id']))"
   ]
  },
  {
   "cell_type": "code",
   "execution_count": 12,
   "metadata": {},
   "outputs": [],
   "source": [
    "# Enhancer bed table\n",
    "enhancers = pybedtools.BedTool(enhancers_f)"
   ]
  },
  {
   "cell_type": "code",
   "execution_count": 13,
   "metadata": {},
   "outputs": [
    {
     "name": "stderr",
     "output_type": "stream",
     "text": [
      "/home/lau/.local/lib/python3.6/site-packages/pybedtools/bedtool.py:3439: FutureWarning: read_table is deprecated, use read_csv instead, passing sep='\\t'.\n",
      "  return pandas.read_table(self.fn, *args, **kwargs)\n"
     ]
    }
   ],
   "source": [
    "# Intersection\n",
    "variants_enhancers_names = ['variant_chr', 'variant_start', 'variant_end', 'variant_id', \\\n",
    "                           'enhancer_chr', 'enhancer_start', 'enhancer_end', 'enhancer_id']\n",
    "variants_enhancers = variants.intersect(enhancers, wa=True, wb=True).to_dataframe(names=variants_enhancers_names)"
   ]
  },
  {
   "cell_type": "code",
   "execution_count": 14,
   "metadata": {},
   "outputs": [],
   "source": [
    "# Save it as a dictionary\n",
    "variantID__enhancersID = {}\n",
    "for i in variants_enhancers.index:\n",
    "    v = variants_enhancers.loc[i,]['variant_id']\n",
    "    e = variants_enhancers.loc[i,]['enhancer_id']\n",
    "    if v not in variantID__enhancersID:\n",
    "        variantID__enhancersID[v] = [e]\n",
    "    else:\n",
    "        variantID__enhancersID[v].append(e)"
   ]
  },
  {
   "cell_type": "code",
   "execution_count": 15,
   "metadata": {},
   "outputs": [],
   "source": [
    "# Read genes table\n",
    "genes = pybedtools.BedTool('../../../prototype/genes.bed')"
   ]
  },
  {
   "cell_type": "code",
   "execution_count": 16,
   "metadata": {},
   "outputs": [],
   "source": [
    "# Read promoters table\n",
    "promoters = pybedtools.BedTool('../../../prototype/promoters.bed')"
   ]
  },
  {
   "cell_type": "code",
   "execution_count": 17,
   "metadata": {},
   "outputs": [
    {
     "name": "stdout",
     "output_type": "stream",
     "text": [
      "(7457, 13)\n"
     ]
    },
    {
     "name": "stderr",
     "output_type": "stream",
     "text": [
      "/home/lau/.local/lib/python3.6/site-packages/pybedtools/bedtool.py:3439: FutureWarning: read_table is deprecated, use read_csv instead, passing sep='\\t'.\n",
      "  return pandas.read_table(self.fn, *args, **kwargs)\n"
     ]
    }
   ],
   "source": [
    "# Intersection\n",
    "genes_promoter_names = ['gene_chr', 'gene_start', 'gene_end', 'gene_id', 'smth1', 'strand', 'annotation', 'type', 'smth2', \\\n",
    "                       'promoter_chr', 'promoter_start', 'promoter_end', 'promoter_id']\n",
    "genes_promoters = genes.intersect(promoters, wa=True, wb=True).to_dataframe(names = genes_promoter_names)\n",
    "print(genes_promoters.shape)"
   ]
  },
  {
   "cell_type": "code",
   "execution_count": 18,
   "metadata": {},
   "outputs": [],
   "source": [
    "# Save a dictionary for the future\n",
    "geneID__promotersID = {}\n",
    "for i in genes_promoters.index:\n",
    "    g = genes_promoters.loc[i,]['gene_id']\n",
    "    p = genes_promoters.loc[i,]['promoter_id']\n",
    "    if g not in geneID__promotersID:\n",
    "        geneID__promotersID[g] = [p]\n",
    "    else:\n",
    "        geneID__promotersID[g].append(p)"
   ]
  },
  {
   "cell_type": "code",
   "execution_count": 19,
   "metadata": {},
   "outputs": [
    {
     "data": {
      "text/plain": [
       "(1397, 8)"
      ]
     },
     "execution_count": 19,
     "metadata": {},
     "output_type": "execute_result"
    }
   ],
   "source": [
    "genes_promoters = genes_promoters[['gene_chr', 'gene_start', 'gene_end', 'gene_id', \\\n",
    "                                   'promoter_chr', 'promoter_start', 'promoter_end', 'promoter_id']]\n",
    "genes_promoters = genes_promoters[genes_promoters['gene_id'].apply(lambda x: x in genes_top)]\n",
    "genes_promoters.shape"
   ]
  },
  {
   "cell_type": "code",
   "execution_count": 20,
   "metadata": {},
   "outputs": [
    {
     "name": "stdout",
     "output_type": "stream",
     "text": [
      "14047\n"
     ]
    }
   ],
   "source": [
    "# Get promoter to enhancer table\n",
    "variantID = []\n",
    "geneID = []\n",
    "enhancerID = []\n",
    "promoterID = []\n",
    "\n",
    "c = 0\n",
    "for v, g in pairs_vg:\n",
    "    if v in variantID__enhancersID and g in geneID__promotersID:\n",
    "        promoters_list = geneID__promotersID[g]\n",
    "        enhancers_list = variantID__enhancersID[v]\n",
    "\n",
    "        pairs_ep = tuple((enhancers_list[i], promoters_list[u]) \\\n",
    "                         for i in range(len(enhancers_list)) for u in range(len(promoters_list)))\n",
    "        \n",
    "        for e, p in pairs_ep:\n",
    "            variantID.append(v)\n",
    "            geneID.append(g)\n",
    "            enhancerID.append(e)\n",
    "            promoterID.append(p)\n",
    "\n",
    "            c += 1\n",
    "print(c)"
   ]
  },
  {
   "cell_type": "code",
   "execution_count": 21,
   "metadata": {},
   "outputs": [
    {
     "name": "stdout",
     "output_type": "stream",
     "text": [
      "(10259, 4)\n"
     ]
    }
   ],
   "source": [
    "# Set a dataframe\n",
    "pairs_df = pd.DataFrame({\n",
    "    'variant_id': variantID,\n",
    "    'gene_id': geneID,\n",
    "    'enhancer_id': enhancerID,\n",
    "    'promoter_id': promoterID})\n",
    "\n",
    "pairs_df.head()\n",
    "\n",
    "pairs_df = pairs_df.drop_duplicates()\n",
    "print(pairs_df.shape)"
   ]
  },
  {
   "cell_type": "code",
   "execution_count": 22,
   "metadata": {},
   "outputs": [],
   "source": [
    "## Add linear data"
   ]
  },
  {
   "cell_type": "code",
   "execution_count": 23,
   "metadata": {},
   "outputs": [
    {
     "name": "stdout",
     "output_type": "stream",
     "text": [
      "chr1\t10140\t10374\tH3K9me3\t10.796883\n",
      " chr1\t10166\t10376\tFAIRE-seq\t0.0158\n",
      " chr1\t235614\t235797\tH3K4me1\t8.534075\n",
      " chr1\t235869\t236051\tH3K4me1\t9.24104\n",
      " chr1\t237564\t237934\tRUNX3\t40.4869547364138\n",
      " chr1\t237593\t237953\tCTCF\t17.021810811418\n",
      " chr1\t237640\t237790\tDNase-seq\t15.0\n",
      " chr1\t237660\t237850\tRAD21\t46.4827955207139\n",
      " chr1\t521337\t521697\tCTCF\t18.2400563234528\n",
      " chr1\t521488\t521678\tRAD21\t29.4130058402459\n",
      " "
     ]
    }
   ],
   "source": [
    "peaks = pybedtools.BedTool('../../../prototype/peaks.bed.gz')\n",
    "peaks.head()"
   ]
  },
  {
   "cell_type": "code",
   "execution_count": 24,
   "metadata": {},
   "outputs": [
    {
     "name": "stdout",
     "output_type": "stream",
     "text": [
      "chr1\t713375\t713376\tMethylation\t83\n",
      " chr1\t713375\t713376\tMethylation\t60\n",
      " chr1\t713387\t713388\tMethylation\t46\n",
      " chr1\t713387\t713388\tMethylation\t60\n",
      " chr1\t713399\t713400\tMethylation\t21\n",
      " chr1\t713399\t713400\tMethylation\t33\n",
      " chr1\t714583\t714584\tMethylation\t4\n",
      " chr1\t714583\t714584\tMethylation\t4\n",
      " chr1\t799084\t799085\tMethylation\t46\n",
      " chr1\t799084\t799085\tMethylation\t46\n",
      " "
     ]
    }
   ],
   "source": [
    "methylation = pybedtools.BedTool('../../../prototype/methylation.bed.gz')\n",
    "methylation.head()"
   ]
  },
  {
   "cell_type": "code",
   "execution_count": 25,
   "metadata": {},
   "outputs": [
    {
     "name": "stdout",
     "output_type": "stream",
     "text": [
      "chr1\t17470\t17505\tCAGE\t2.96\n",
      " chr1\t61713\t61742\tCAGE\t3.755\n",
      " chr1\t534298\t534331\tCAGE\t3.46\n",
      " chr1\t564460\t564489\tCAGE\t1.68\n",
      " chr1\t564639\t564666\tCAGE\t1.28\n",
      " chr1\t564713\t564750\tCAGE\t1.18\n",
      " chr1\t565253\t565288\tCAGE\t1.18\n",
      " chr1\t565263\t565290\tCAGE\t1.28\n",
      " chr1\t565380\t565409\tCAGE\t1.68\n",
      " chr1\t565462\t565489\tCAGE\t1.18\n",
      " "
     ]
    }
   ],
   "source": [
    "cage = pybedtools.BedTool('../../../prototype/cage.bed.gz')\n",
    "cage.head()"
   ]
  },
  {
   "cell_type": "code",
   "execution_count": 26,
   "metadata": {},
   "outputs": [
    {
     "name": "stdout",
     "output_type": "stream",
     "text": [
      "chr1\t10140\t10374\tH3K9me3\t10.796883\n",
      " chr1\t10166\t10376\tFAIRE-seq\t0.0158\n",
      " chr1\t17470\t17505\tCAGE\t2.96\n",
      " chr1\t61713\t61742\tCAGE\t3.755\n",
      " chr1\t235614\t235797\tH3K4me1\t8.534075\n",
      " chr1\t235869\t236051\tH3K4me1\t9.24104\n",
      " chr1\t237564\t237934\tRUNX3\t40.4869547364138\n",
      " chr1\t237593\t237953\tCTCF\t17.021810811418\n",
      " chr1\t237640\t237790\tDNase-seq\t15.0\n",
      " chr1\t237660\t237850\tRAD21\t46.4827955207139\n",
      " "
     ]
    }
   ],
   "source": [
    "peaks = peaks.cat(*[methylation, cage], postmerge=False).sort()\n",
    "peaks.head()"
   ]
  },
  {
   "cell_type": "code",
   "execution_count": 27,
   "metadata": {},
   "outputs": [],
   "source": [
    "enhancer_names = ['enhancer_chr', 'enhancer_start', 'enhancert_end', 'enhancer_id']\n",
    "promoter_names = ['promoter_chr', 'promoter_start', 'promoter_end', 'promoter_id']\n",
    "peak_names = ['peak_chr', 'peak_start', 'peak_end', 'peak_name', 'peak_value']"
   ]
  },
  {
   "cell_type": "code",
   "execution_count": 28,
   "metadata": {},
   "outputs": [
    {
     "name": "stderr",
     "output_type": "stream",
     "text": [
      "/home/lau/.local/lib/python3.6/site-packages/pybedtools/bedtool.py:3439: FutureWarning: read_table is deprecated, use read_csv instead, passing sep='\\t'.\n",
      "  return pandas.read_table(self.fn, *args, **kwargs)\n"
     ]
    }
   ],
   "source": [
    "peaks_df = peaks.to_dataframe(names=peak_names)"
   ]
  },
  {
   "cell_type": "code",
   "execution_count": 29,
   "metadata": {},
   "outputs": [
    {
     "data": {
      "text/html": [
       "<div>\n",
       "<style scoped>\n",
       "    .dataframe tbody tr th:only-of-type {\n",
       "        vertical-align: middle;\n",
       "    }\n",
       "\n",
       "    .dataframe tbody tr th {\n",
       "        vertical-align: top;\n",
       "    }\n",
       "\n",
       "    .dataframe thead th {\n",
       "        text-align: right;\n",
       "    }\n",
       "</style>\n",
       "<table border=\"1\" class=\"dataframe\">\n",
       "  <thead>\n",
       "    <tr style=\"text-align: right;\">\n",
       "      <th></th>\n",
       "      <th>peak_chr</th>\n",
       "      <th>peak_start</th>\n",
       "      <th>peak_end</th>\n",
       "      <th>peak_name</th>\n",
       "      <th>peak_value</th>\n",
       "    </tr>\n",
       "  </thead>\n",
       "  <tbody>\n",
       "    <tr>\n",
       "      <th>0</th>\n",
       "      <td>chr1</td>\n",
       "      <td>10140</td>\n",
       "      <td>10374</td>\n",
       "      <td>H3K9me3</td>\n",
       "      <td>10.796883</td>\n",
       "    </tr>\n",
       "    <tr>\n",
       "      <th>1</th>\n",
       "      <td>chr1</td>\n",
       "      <td>10166</td>\n",
       "      <td>10376</td>\n",
       "      <td>FAIRE-seq</td>\n",
       "      <td>0.015800</td>\n",
       "    </tr>\n",
       "    <tr>\n",
       "      <th>2</th>\n",
       "      <td>chr1</td>\n",
       "      <td>17470</td>\n",
       "      <td>17505</td>\n",
       "      <td>CAGE</td>\n",
       "      <td>2.960000</td>\n",
       "    </tr>\n",
       "    <tr>\n",
       "      <th>3</th>\n",
       "      <td>chr1</td>\n",
       "      <td>61713</td>\n",
       "      <td>61742</td>\n",
       "      <td>CAGE</td>\n",
       "      <td>3.755000</td>\n",
       "    </tr>\n",
       "    <tr>\n",
       "      <th>4</th>\n",
       "      <td>chr1</td>\n",
       "      <td>235614</td>\n",
       "      <td>235797</td>\n",
       "      <td>H3K4me1</td>\n",
       "      <td>8.534075</td>\n",
       "    </tr>\n",
       "  </tbody>\n",
       "</table>\n",
       "</div>"
      ],
      "text/plain": [
       "  peak_chr  peak_start  peak_end  peak_name  peak_value\n",
       "0     chr1       10140     10374    H3K9me3   10.796883\n",
       "1     chr1       10166     10376  FAIRE-seq    0.015800\n",
       "2     chr1       17470     17505       CAGE    2.960000\n",
       "3     chr1       61713     61742       CAGE    3.755000\n",
       "4     chr1      235614    235797    H3K4me1    8.534075"
      ]
     },
     "execution_count": 29,
     "metadata": {},
     "output_type": "execute_result"
    }
   ],
   "source": [
    "peaks_df.head()"
   ]
  },
  {
   "cell_type": "code",
   "execution_count": 30,
   "metadata": {},
   "outputs": [
    {
     "data": {
      "text/plain": [
       "0"
      ]
     },
     "execution_count": 30,
     "metadata": {},
     "output_type": "execute_result"
    }
   ],
   "source": [
    "sum(peaks_df['peak_name'] == '.')"
   ]
  },
  {
   "cell_type": "code",
   "execution_count": 31,
   "metadata": {},
   "outputs": [
    {
     "name": "stderr",
     "output_type": "stream",
     "text": [
      "/home/lau/.local/lib/python3.6/site-packages/pybedtools/bedtool.py:3439: FutureWarning: read_table is deprecated, use read_csv instead, passing sep='\\t'.\n",
      "  return pandas.read_table(self.fn, *args, **kwargs)\n"
     ]
    },
    {
     "data": {
      "text/html": [
       "<div>\n",
       "<style scoped>\n",
       "    .dataframe tbody tr th:only-of-type {\n",
       "        vertical-align: middle;\n",
       "    }\n",
       "\n",
       "    .dataframe tbody tr th {\n",
       "        vertical-align: top;\n",
       "    }\n",
       "\n",
       "    .dataframe thead th {\n",
       "        text-align: right;\n",
       "    }\n",
       "</style>\n",
       "<table border=\"1\" class=\"dataframe\">\n",
       "  <thead>\n",
       "    <tr style=\"text-align: right;\">\n",
       "      <th></th>\n",
       "      <th>enhancer_id</th>\n",
       "      <th>peak_name</th>\n",
       "      <th>peak_value</th>\n",
       "    </tr>\n",
       "  </thead>\n",
       "  <tbody>\n",
       "    <tr>\n",
       "      <th>0</th>\n",
       "      <td>GM12878|chr1:235686-235784</td>\n",
       "      <td>H3K4me1</td>\n",
       "      <td>8.534075</td>\n",
       "    </tr>\n",
       "    <tr>\n",
       "      <th>1</th>\n",
       "      <td>GM12878|chr1:235686-235784</td>\n",
       "      <td>H3K4me1</td>\n",
       "      <td>9.241040</td>\n",
       "    </tr>\n",
       "    <tr>\n",
       "      <th>2</th>\n",
       "      <td>GM12878|chr1:235686-235784</td>\n",
       "      <td>RUNX3</td>\n",
       "      <td>40.486955</td>\n",
       "    </tr>\n",
       "    <tr>\n",
       "      <th>3</th>\n",
       "      <td>GM12878|chr1:235686-235784</td>\n",
       "      <td>CTCF</td>\n",
       "      <td>17.021811</td>\n",
       "    </tr>\n",
       "    <tr>\n",
       "      <th>4</th>\n",
       "      <td>GM12878|chr1:235686-235784</td>\n",
       "      <td>DNase-seq</td>\n",
       "      <td>15.000000</td>\n",
       "    </tr>\n",
       "  </tbody>\n",
       "</table>\n",
       "</div>"
      ],
      "text/plain": [
       "                  enhancer_id  peak_name  peak_value\n",
       "0  GM12878|chr1:235686-235784    H3K4me1    8.534075\n",
       "1  GM12878|chr1:235686-235784    H3K4me1    9.241040\n",
       "2  GM12878|chr1:235686-235784      RUNX3   40.486955\n",
       "3  GM12878|chr1:235686-235784       CTCF   17.021811\n",
       "4  GM12878|chr1:235686-235784  DNase-seq   15.000000"
      ]
     },
     "execution_count": 31,
     "metadata": {},
     "output_type": "execute_result"
    }
   ],
   "source": [
    "enhancer_peaks = enhancers.intersect(peaks, loj=True, wa=True, wb=True)\\\n",
    "                .to_dataframe(names = enhancer_names + peak_names)[['enhancer_id','peak_name','peak_value']]\n",
    "enhancer_peaks.head()"
   ]
  },
  {
   "cell_type": "code",
   "execution_count": 32,
   "metadata": {},
   "outputs": [],
   "source": [
    "enhancer_peaks = enhancer_peaks.groupby(['enhancer_id', 'peak_name']).sum().reset_index()\n",
    "enhancer_peaks = enhancer_peaks.pivot_table(index='enhancer_id', columns='peak_name', values='peak_value')\\\n",
    "                .reset_index().fillna(0).drop(columns='.')"
   ]
  },
  {
   "cell_type": "code",
   "execution_count": 33,
   "metadata": {},
   "outputs": [
    {
     "data": {
      "text/html": [
       "<div>\n",
       "<style scoped>\n",
       "    .dataframe tbody tr th:only-of-type {\n",
       "        vertical-align: middle;\n",
       "    }\n",
       "\n",
       "    .dataframe tbody tr th {\n",
       "        vertical-align: top;\n",
       "    }\n",
       "\n",
       "    .dataframe thead th {\n",
       "        text-align: right;\n",
       "    }\n",
       "</style>\n",
       "<table border=\"1\" class=\"dataframe\">\n",
       "  <thead>\n",
       "    <tr style=\"text-align: right;\">\n",
       "      <th></th>\n",
       "      <th>enhancer_id</th>\n",
       "      <th>enhancer_ATF2</th>\n",
       "      <th>enhancer_ATF3</th>\n",
       "      <th>enhancer_BATF</th>\n",
       "      <th>enhancer_BCL11A</th>\n",
       "      <th>enhancer_BCL3</th>\n",
       "      <th>enhancer_BCLAF1</th>\n",
       "      <th>enhancer_BHLHE40</th>\n",
       "      <th>enhancer_BRCA1</th>\n",
       "      <th>enhancer_CAGE</th>\n",
       "      <th>...</th>\n",
       "      <th>enhancer_USF1</th>\n",
       "      <th>enhancer_USF2</th>\n",
       "      <th>enhancer_WRNIP1</th>\n",
       "      <th>enhancer_YY1</th>\n",
       "      <th>enhancer_ZBTB33</th>\n",
       "      <th>enhancer_ZEB1</th>\n",
       "      <th>enhancer_ZNF143</th>\n",
       "      <th>enhancer_ZNF274</th>\n",
       "      <th>enhancer_ZNF384</th>\n",
       "      <th>enhancer_ZZZ3</th>\n",
       "    </tr>\n",
       "  </thead>\n",
       "  <tbody>\n",
       "    <tr>\n",
       "      <th>0</th>\n",
       "      <td>GM12878|chr10:100027961-100028252</td>\n",
       "      <td>0.000000</td>\n",
       "      <td>0.0</td>\n",
       "      <td>0.00000</td>\n",
       "      <td>0.0</td>\n",
       "      <td>0.000000</td>\n",
       "      <td>0.0</td>\n",
       "      <td>0.000000</td>\n",
       "      <td>0.0</td>\n",
       "      <td>6.2</td>\n",
       "      <td>...</td>\n",
       "      <td>0.000000</td>\n",
       "      <td>0.000000</td>\n",
       "      <td>0.0</td>\n",
       "      <td>0.0</td>\n",
       "      <td>0.0</td>\n",
       "      <td>0.0</td>\n",
       "      <td>0.0</td>\n",
       "      <td>0.0</td>\n",
       "      <td>0.0</td>\n",
       "      <td>0.0</td>\n",
       "    </tr>\n",
       "    <tr>\n",
       "      <th>1</th>\n",
       "      <td>GM12878|chr10:100099100-100099215</td>\n",
       "      <td>50.657848</td>\n",
       "      <td>0.0</td>\n",
       "      <td>38.09667</td>\n",
       "      <td>0.0</td>\n",
       "      <td>21.807906</td>\n",
       "      <td>0.0</td>\n",
       "      <td>79.276888</td>\n",
       "      <td>0.0</td>\n",
       "      <td>0.0</td>\n",
       "      <td>...</td>\n",
       "      <td>109.745819</td>\n",
       "      <td>48.057805</td>\n",
       "      <td>0.0</td>\n",
       "      <td>0.0</td>\n",
       "      <td>0.0</td>\n",
       "      <td>0.0</td>\n",
       "      <td>0.0</td>\n",
       "      <td>0.0</td>\n",
       "      <td>0.0</td>\n",
       "      <td>0.0</td>\n",
       "    </tr>\n",
       "    <tr>\n",
       "      <th>2</th>\n",
       "      <td>GM12878|chr10:100099435-100099559</td>\n",
       "      <td>50.657848</td>\n",
       "      <td>0.0</td>\n",
       "      <td>38.09667</td>\n",
       "      <td>0.0</td>\n",
       "      <td>21.807906</td>\n",
       "      <td>0.0</td>\n",
       "      <td>79.276888</td>\n",
       "      <td>0.0</td>\n",
       "      <td>0.0</td>\n",
       "      <td>...</td>\n",
       "      <td>109.745819</td>\n",
       "      <td>48.057805</td>\n",
       "      <td>0.0</td>\n",
       "      <td>0.0</td>\n",
       "      <td>0.0</td>\n",
       "      <td>0.0</td>\n",
       "      <td>0.0</td>\n",
       "      <td>0.0</td>\n",
       "      <td>0.0</td>\n",
       "      <td>0.0</td>\n",
       "    </tr>\n",
       "    <tr>\n",
       "      <th>3</th>\n",
       "      <td>GM12878|chr10:100099600-100100600</td>\n",
       "      <td>50.657848</td>\n",
       "      <td>0.0</td>\n",
       "      <td>38.09667</td>\n",
       "      <td>0.0</td>\n",
       "      <td>21.807906</td>\n",
       "      <td>0.0</td>\n",
       "      <td>79.276888</td>\n",
       "      <td>0.0</td>\n",
       "      <td>0.0</td>\n",
       "      <td>...</td>\n",
       "      <td>109.745819</td>\n",
       "      <td>48.057805</td>\n",
       "      <td>0.0</td>\n",
       "      <td>0.0</td>\n",
       "      <td>0.0</td>\n",
       "      <td>0.0</td>\n",
       "      <td>0.0</td>\n",
       "      <td>0.0</td>\n",
       "      <td>0.0</td>\n",
       "      <td>0.0</td>\n",
       "    </tr>\n",
       "    <tr>\n",
       "      <th>4</th>\n",
       "      <td>GM12878|chr10:100100600-100100675</td>\n",
       "      <td>50.657848</td>\n",
       "      <td>0.0</td>\n",
       "      <td>38.09667</td>\n",
       "      <td>0.0</td>\n",
       "      <td>21.807906</td>\n",
       "      <td>0.0</td>\n",
       "      <td>79.276888</td>\n",
       "      <td>0.0</td>\n",
       "      <td>0.0</td>\n",
       "      <td>...</td>\n",
       "      <td>109.745819</td>\n",
       "      <td>48.057805</td>\n",
       "      <td>0.0</td>\n",
       "      <td>0.0</td>\n",
       "      <td>0.0</td>\n",
       "      <td>0.0</td>\n",
       "      <td>0.0</td>\n",
       "      <td>0.0</td>\n",
       "      <td>0.0</td>\n",
       "      <td>0.0</td>\n",
       "    </tr>\n",
       "  </tbody>\n",
       "</table>\n",
       "<p>5 rows × 101 columns</p>\n",
       "</div>"
      ],
      "text/plain": [
       "                         enhancer_id  enhancer_ATF2  enhancer_ATF3  \\\n",
       "0  GM12878|chr10:100027961-100028252       0.000000            0.0   \n",
       "1  GM12878|chr10:100099100-100099215      50.657848            0.0   \n",
       "2  GM12878|chr10:100099435-100099559      50.657848            0.0   \n",
       "3  GM12878|chr10:100099600-100100600      50.657848            0.0   \n",
       "4  GM12878|chr10:100100600-100100675      50.657848            0.0   \n",
       "\n",
       "   enhancer_BATF  enhancer_BCL11A  enhancer_BCL3  enhancer_BCLAF1  \\\n",
       "0        0.00000              0.0       0.000000              0.0   \n",
       "1       38.09667              0.0      21.807906              0.0   \n",
       "2       38.09667              0.0      21.807906              0.0   \n",
       "3       38.09667              0.0      21.807906              0.0   \n",
       "4       38.09667              0.0      21.807906              0.0   \n",
       "\n",
       "   enhancer_BHLHE40  enhancer_BRCA1  enhancer_CAGE  ...  enhancer_USF1  \\\n",
       "0          0.000000             0.0            6.2  ...       0.000000   \n",
       "1         79.276888             0.0            0.0  ...     109.745819   \n",
       "2         79.276888             0.0            0.0  ...     109.745819   \n",
       "3         79.276888             0.0            0.0  ...     109.745819   \n",
       "4         79.276888             0.0            0.0  ...     109.745819   \n",
       "\n",
       "   enhancer_USF2  enhancer_WRNIP1  enhancer_YY1  enhancer_ZBTB33  \\\n",
       "0       0.000000              0.0           0.0              0.0   \n",
       "1      48.057805              0.0           0.0              0.0   \n",
       "2      48.057805              0.0           0.0              0.0   \n",
       "3      48.057805              0.0           0.0              0.0   \n",
       "4      48.057805              0.0           0.0              0.0   \n",
       "\n",
       "   enhancer_ZEB1  enhancer_ZNF143  enhancer_ZNF274  enhancer_ZNF384  \\\n",
       "0            0.0              0.0              0.0              0.0   \n",
       "1            0.0              0.0              0.0              0.0   \n",
       "2            0.0              0.0              0.0              0.0   \n",
       "3            0.0              0.0              0.0              0.0   \n",
       "4            0.0              0.0              0.0              0.0   \n",
       "\n",
       "   enhancer_ZZZ3  \n",
       "0            0.0  \n",
       "1            0.0  \n",
       "2            0.0  \n",
       "3            0.0  \n",
       "4            0.0  \n",
       "\n",
       "[5 rows x 101 columns]"
      ]
     },
     "execution_count": 33,
     "metadata": {},
     "output_type": "execute_result"
    }
   ],
   "source": [
    "enhancer_peaks.columns = ['enhancer_id'] + ['enhancer_' + i for i in enhancer_peaks.columns[1:]]\n",
    "enhancer_peaks.head()"
   ]
  },
  {
   "cell_type": "code",
   "execution_count": 34,
   "metadata": {},
   "outputs": [
    {
     "name": "stderr",
     "output_type": "stream",
     "text": [
      "/home/lau/.local/lib/python3.6/site-packages/pybedtools/bedtool.py:3439: FutureWarning: read_table is deprecated, use read_csv instead, passing sep='\\t'.\n",
      "  return pandas.read_table(self.fn, *args, **kwargs)\n"
     ]
    },
    {
     "data": {
      "text/html": [
       "<div>\n",
       "<style scoped>\n",
       "    .dataframe tbody tr th:only-of-type {\n",
       "        vertical-align: middle;\n",
       "    }\n",
       "\n",
       "    .dataframe tbody tr th {\n",
       "        vertical-align: top;\n",
       "    }\n",
       "\n",
       "    .dataframe thead th {\n",
       "        text-align: right;\n",
       "    }\n",
       "</style>\n",
       "<table border=\"1\" class=\"dataframe\">\n",
       "  <thead>\n",
       "    <tr style=\"text-align: right;\">\n",
       "      <th></th>\n",
       "      <th>promoter_id</th>\n",
       "      <th>peak_name</th>\n",
       "      <th>peak_value</th>\n",
       "    </tr>\n",
       "  </thead>\n",
       "  <tbody>\n",
       "    <tr>\n",
       "      <th>0</th>\n",
       "      <td>GM12878|chr1:713188-714800</td>\n",
       "      <td>H3K4me3</td>\n",
       "      <td>4.863800</td>\n",
       "    </tr>\n",
       "    <tr>\n",
       "      <th>1</th>\n",
       "      <td>GM12878|chr1:713188-714800</td>\n",
       "      <td>H3K9ac</td>\n",
       "      <td>12.593103</td>\n",
       "    </tr>\n",
       "    <tr>\n",
       "      <th>2</th>\n",
       "      <td>GM12878|chr1:713188-714800</td>\n",
       "      <td>H3K27ac</td>\n",
       "      <td>11.636454</td>\n",
       "    </tr>\n",
       "    <tr>\n",
       "      <th>3</th>\n",
       "      <td>GM12878|chr1:713188-714800</td>\n",
       "      <td>H3K79me2</td>\n",
       "      <td>14.015522</td>\n",
       "    </tr>\n",
       "    <tr>\n",
       "      <th>4</th>\n",
       "      <td>GM12878|chr1:713188-714800</td>\n",
       "      <td>H3K4me2</td>\n",
       "      <td>17.938890</td>\n",
       "    </tr>\n",
       "  </tbody>\n",
       "</table>\n",
       "</div>"
      ],
      "text/plain": [
       "                  promoter_id peak_name  peak_value\n",
       "0  GM12878|chr1:713188-714800   H3K4me3    4.863800\n",
       "1  GM12878|chr1:713188-714800    H3K9ac   12.593103\n",
       "2  GM12878|chr1:713188-714800   H3K27ac   11.636454\n",
       "3  GM12878|chr1:713188-714800  H3K79me2   14.015522\n",
       "4  GM12878|chr1:713188-714800   H3K4me2   17.938890"
      ]
     },
     "execution_count": 34,
     "metadata": {},
     "output_type": "execute_result"
    }
   ],
   "source": [
    "promoter_peaks = promoters.intersect(peaks, loj=True, wa=True, wb=True)\\\n",
    "                 .to_dataframe(names = promoter_names + peak_names)[['promoter_id', 'peak_name', 'peak_value']]\n",
    "promoter_peaks.head()"
   ]
  },
  {
   "cell_type": "code",
   "execution_count": 35,
   "metadata": {},
   "outputs": [],
   "source": [
    "promoter_peaks = promoter_peaks.groupby(['promoter_id', 'peak_name']).sum().reset_index()\n",
    "promoter_peaks = promoter_peaks.pivot_table(index='promoter_id', columns='peak_name', values='peak_value')\\\n",
    "                 .reset_index().fillna(0)"
   ]
  },
  {
   "cell_type": "code",
   "execution_count": 36,
   "metadata": {},
   "outputs": [
    {
     "data": {
      "text/html": [
       "<div>\n",
       "<style scoped>\n",
       "    .dataframe tbody tr th:only-of-type {\n",
       "        vertical-align: middle;\n",
       "    }\n",
       "\n",
       "    .dataframe tbody tr th {\n",
       "        vertical-align: top;\n",
       "    }\n",
       "\n",
       "    .dataframe thead th {\n",
       "        text-align: right;\n",
       "    }\n",
       "</style>\n",
       "<table border=\"1\" class=\"dataframe\">\n",
       "  <thead>\n",
       "    <tr style=\"text-align: right;\">\n",
       "      <th></th>\n",
       "      <th>promoter_id</th>\n",
       "      <th>promoter_ATF2</th>\n",
       "      <th>promoter_ATF3</th>\n",
       "      <th>promoter_BATF</th>\n",
       "      <th>promoter_BCL11A</th>\n",
       "      <th>promoter_BCL3</th>\n",
       "      <th>promoter_BCLAF1</th>\n",
       "      <th>promoter_BHLHE40</th>\n",
       "      <th>promoter_BRCA1</th>\n",
       "      <th>promoter_CAGE</th>\n",
       "      <th>...</th>\n",
       "      <th>promoter_TCF3</th>\n",
       "      <th>promoter_USF1</th>\n",
       "      <th>promoter_USF2</th>\n",
       "      <th>promoter_WRNIP1</th>\n",
       "      <th>promoter_YY1</th>\n",
       "      <th>promoter_ZBTB33</th>\n",
       "      <th>promoter_ZEB1</th>\n",
       "      <th>promoter_ZNF143</th>\n",
       "      <th>promoter_ZNF384</th>\n",
       "      <th>promoter_ZZZ3</th>\n",
       "    </tr>\n",
       "  </thead>\n",
       "  <tbody>\n",
       "    <tr>\n",
       "      <th>0</th>\n",
       "      <td>GM12878|chr10:100174720-100175000</td>\n",
       "      <td>0.000000</td>\n",
       "      <td>0.000000</td>\n",
       "      <td>0.000000</td>\n",
       "      <td>0.000000</td>\n",
       "      <td>0.0</td>\n",
       "      <td>0.000000</td>\n",
       "      <td>0.000000</td>\n",
       "      <td>0.0</td>\n",
       "      <td>1.18000</td>\n",
       "      <td>...</td>\n",
       "      <td>0.000000</td>\n",
       "      <td>0.000000</td>\n",
       "      <td>0.000000</td>\n",
       "      <td>0.000000</td>\n",
       "      <td>0.0</td>\n",
       "      <td>0.0</td>\n",
       "      <td>0.000000</td>\n",
       "      <td>0.000000</td>\n",
       "      <td>0.00000</td>\n",
       "      <td>0.0</td>\n",
       "    </tr>\n",
       "    <tr>\n",
       "      <th>1</th>\n",
       "      <td>GM12878|chr10:100205197-100207294</td>\n",
       "      <td>76.724122</td>\n",
       "      <td>73.400824</td>\n",
       "      <td>0.000000</td>\n",
       "      <td>23.297729</td>\n",
       "      <td>0.0</td>\n",
       "      <td>0.000000</td>\n",
       "      <td>147.281136</td>\n",
       "      <td>0.0</td>\n",
       "      <td>66.03136</td>\n",
       "      <td>...</td>\n",
       "      <td>25.516657</td>\n",
       "      <td>414.951343</td>\n",
       "      <td>336.582307</td>\n",
       "      <td>18.153197</td>\n",
       "      <td>0.0</td>\n",
       "      <td>0.0</td>\n",
       "      <td>0.000000</td>\n",
       "      <td>49.353312</td>\n",
       "      <td>0.00000</td>\n",
       "      <td>0.0</td>\n",
       "    </tr>\n",
       "    <tr>\n",
       "      <th>2</th>\n",
       "      <td>GM12878|chr10:101189543-101191510</td>\n",
       "      <td>0.000000</td>\n",
       "      <td>0.000000</td>\n",
       "      <td>29.116682</td>\n",
       "      <td>0.000000</td>\n",
       "      <td>0.0</td>\n",
       "      <td>0.000000</td>\n",
       "      <td>0.000000</td>\n",
       "      <td>0.0</td>\n",
       "      <td>48.49248</td>\n",
       "      <td>...</td>\n",
       "      <td>19.440035</td>\n",
       "      <td>0.000000</td>\n",
       "      <td>0.000000</td>\n",
       "      <td>0.000000</td>\n",
       "      <td>0.0</td>\n",
       "      <td>0.0</td>\n",
       "      <td>45.356204</td>\n",
       "      <td>0.000000</td>\n",
       "      <td>0.00000</td>\n",
       "      <td>0.0</td>\n",
       "    </tr>\n",
       "    <tr>\n",
       "      <th>3</th>\n",
       "      <td>GM12878|chr10:101418472-101419903</td>\n",
       "      <td>0.000000</td>\n",
       "      <td>0.000000</td>\n",
       "      <td>0.000000</td>\n",
       "      <td>0.000000</td>\n",
       "      <td>0.0</td>\n",
       "      <td>0.000000</td>\n",
       "      <td>0.000000</td>\n",
       "      <td>0.0</td>\n",
       "      <td>20.09618</td>\n",
       "      <td>...</td>\n",
       "      <td>0.000000</td>\n",
       "      <td>0.000000</td>\n",
       "      <td>0.000000</td>\n",
       "      <td>0.000000</td>\n",
       "      <td>0.0</td>\n",
       "      <td>0.0</td>\n",
       "      <td>29.462871</td>\n",
       "      <td>0.000000</td>\n",
       "      <td>122.99820</td>\n",
       "      <td>0.0</td>\n",
       "    </tr>\n",
       "    <tr>\n",
       "      <th>4</th>\n",
       "      <td>GM12878|chr10:101490920-101492820</td>\n",
       "      <td>37.483596</td>\n",
       "      <td>0.000000</td>\n",
       "      <td>0.000000</td>\n",
       "      <td>0.000000</td>\n",
       "      <td>0.0</td>\n",
       "      <td>28.290804</td>\n",
       "      <td>0.000000</td>\n",
       "      <td>0.0</td>\n",
       "      <td>41.35100</td>\n",
       "      <td>...</td>\n",
       "      <td>0.000000</td>\n",
       "      <td>0.000000</td>\n",
       "      <td>0.000000</td>\n",
       "      <td>0.000000</td>\n",
       "      <td>0.0</td>\n",
       "      <td>0.0</td>\n",
       "      <td>25.523109</td>\n",
       "      <td>285.318391</td>\n",
       "      <td>5.52492</td>\n",
       "      <td>0.0</td>\n",
       "    </tr>\n",
       "  </tbody>\n",
       "</table>\n",
       "<p>5 rows × 100 columns</p>\n",
       "</div>"
      ],
      "text/plain": [
       "                         promoter_id  promoter_ATF2  promoter_ATF3  \\\n",
       "0  GM12878|chr10:100174720-100175000       0.000000       0.000000   \n",
       "1  GM12878|chr10:100205197-100207294      76.724122      73.400824   \n",
       "2  GM12878|chr10:101189543-101191510       0.000000       0.000000   \n",
       "3  GM12878|chr10:101418472-101419903       0.000000       0.000000   \n",
       "4  GM12878|chr10:101490920-101492820      37.483596       0.000000   \n",
       "\n",
       "   promoter_BATF  promoter_BCL11A  promoter_BCL3  promoter_BCLAF1  \\\n",
       "0       0.000000         0.000000            0.0         0.000000   \n",
       "1       0.000000        23.297729            0.0         0.000000   \n",
       "2      29.116682         0.000000            0.0         0.000000   \n",
       "3       0.000000         0.000000            0.0         0.000000   \n",
       "4       0.000000         0.000000            0.0        28.290804   \n",
       "\n",
       "   promoter_BHLHE40  promoter_BRCA1  promoter_CAGE  ...  promoter_TCF3  \\\n",
       "0          0.000000             0.0        1.18000  ...       0.000000   \n",
       "1        147.281136             0.0       66.03136  ...      25.516657   \n",
       "2          0.000000             0.0       48.49248  ...      19.440035   \n",
       "3          0.000000             0.0       20.09618  ...       0.000000   \n",
       "4          0.000000             0.0       41.35100  ...       0.000000   \n",
       "\n",
       "   promoter_USF1  promoter_USF2  promoter_WRNIP1  promoter_YY1  \\\n",
       "0       0.000000       0.000000         0.000000           0.0   \n",
       "1     414.951343     336.582307        18.153197           0.0   \n",
       "2       0.000000       0.000000         0.000000           0.0   \n",
       "3       0.000000       0.000000         0.000000           0.0   \n",
       "4       0.000000       0.000000         0.000000           0.0   \n",
       "\n",
       "   promoter_ZBTB33  promoter_ZEB1  promoter_ZNF143  promoter_ZNF384  \\\n",
       "0              0.0       0.000000         0.000000          0.00000   \n",
       "1              0.0       0.000000        49.353312          0.00000   \n",
       "2              0.0      45.356204         0.000000          0.00000   \n",
       "3              0.0      29.462871         0.000000        122.99820   \n",
       "4              0.0      25.523109       285.318391          5.52492   \n",
       "\n",
       "   promoter_ZZZ3  \n",
       "0            0.0  \n",
       "1            0.0  \n",
       "2            0.0  \n",
       "3            0.0  \n",
       "4            0.0  \n",
       "\n",
       "[5 rows x 100 columns]"
      ]
     },
     "execution_count": 36,
     "metadata": {},
     "output_type": "execute_result"
    }
   ],
   "source": [
    "promoter_peaks.columns = ['promoter_id'] + ['promoter_' + i for i in promoter_peaks.columns[1:]]\n",
    "promoter_peaks.head()"
   ]
  },
  {
   "cell_type": "code",
   "execution_count": 37,
   "metadata": {},
   "outputs": [
    {
     "data": {
      "text/plain": [
       "((8453, 100), (100036, 101))"
      ]
     },
     "execution_count": 37,
     "metadata": {},
     "output_type": "execute_result"
    }
   ],
   "source": [
    "promoter_peaks.shape, enhancer_peaks.shape"
   ]
  },
  {
   "cell_type": "code",
   "execution_count": 38,
   "metadata": {},
   "outputs": [],
   "source": [
    "pairs_df = pairs_df.merge(enhancer_peaks, on='enhancer_id', how='left')\n",
    "pairs_df = pairs_df.merge(promoter_peaks, on='promoter_id', how='left')"
   ]
  },
  {
   "cell_type": "code",
   "execution_count": 39,
   "metadata": {},
   "outputs": [
    {
     "data": {
      "text/plain": [
       "(10259, 203)"
      ]
     },
     "execution_count": 39,
     "metadata": {},
     "output_type": "execute_result"
    }
   ],
   "source": [
    "pairs_df.shape"
   ]
  },
  {
   "cell_type": "code",
   "execution_count": 40,
   "metadata": {},
   "outputs": [],
   "source": [
    "pairs_df = pairs_df.drop_duplicates()"
   ]
  },
  {
   "cell_type": "code",
   "execution_count": 41,
   "metadata": {},
   "outputs": [
    {
     "data": {
      "text/plain": [
       "(10259, 203)"
      ]
     },
     "execution_count": 41,
     "metadata": {},
     "output_type": "execute_result"
    }
   ],
   "source": [
    "pairs_df.shape"
   ]
  },
  {
   "cell_type": "code",
   "execution_count": 42,
   "metadata": {},
   "outputs": [
    {
     "data": {
      "text/html": [
       "<div>\n",
       "<style scoped>\n",
       "    .dataframe tbody tr th:only-of-type {\n",
       "        vertical-align: middle;\n",
       "    }\n",
       "\n",
       "    .dataframe tbody tr th {\n",
       "        vertical-align: top;\n",
       "    }\n",
       "\n",
       "    .dataframe thead th {\n",
       "        text-align: right;\n",
       "    }\n",
       "</style>\n",
       "<table border=\"1\" class=\"dataframe\">\n",
       "  <thead>\n",
       "    <tr style=\"text-align: right;\">\n",
       "      <th></th>\n",
       "      <th>variant_id</th>\n",
       "      <th>gene_id</th>\n",
       "      <th>enhancer_id</th>\n",
       "      <th>promoter_id</th>\n",
       "      <th>enhancer_ATF2</th>\n",
       "      <th>enhancer_ATF3</th>\n",
       "      <th>enhancer_BATF</th>\n",
       "      <th>enhancer_BCL11A</th>\n",
       "      <th>enhancer_BCL3</th>\n",
       "      <th>enhancer_BCLAF1</th>\n",
       "      <th>...</th>\n",
       "      <th>promoter_TCF3</th>\n",
       "      <th>promoter_USF1</th>\n",
       "      <th>promoter_USF2</th>\n",
       "      <th>promoter_WRNIP1</th>\n",
       "      <th>promoter_YY1</th>\n",
       "      <th>promoter_ZBTB33</th>\n",
       "      <th>promoter_ZEB1</th>\n",
       "      <th>promoter_ZNF143</th>\n",
       "      <th>promoter_ZNF384</th>\n",
       "      <th>promoter_ZZZ3</th>\n",
       "    </tr>\n",
       "  </thead>\n",
       "  <tbody>\n",
       "    <tr>\n",
       "      <th>0</th>\n",
       "      <td>1_150746406_G_T_b37</td>\n",
       "      <td>ENSG00000163131</td>\n",
       "      <td>GM12878|chr1:150743400-150743433</td>\n",
       "      <td>GM12878|chr1:150737600-150738647</td>\n",
       "      <td>0.0</td>\n",
       "      <td>0.0</td>\n",
       "      <td>0.0</td>\n",
       "      <td>0.0</td>\n",
       "      <td>0.0</td>\n",
       "      <td>0.0</td>\n",
       "      <td>...</td>\n",
       "      <td>0.000000</td>\n",
       "      <td>0.0</td>\n",
       "      <td>72.707258</td>\n",
       "      <td>0.000000</td>\n",
       "      <td>0.0</td>\n",
       "      <td>0.0</td>\n",
       "      <td>0.0</td>\n",
       "      <td>0.0</td>\n",
       "      <td>0.0</td>\n",
       "      <td>0.0</td>\n",
       "    </tr>\n",
       "    <tr>\n",
       "      <th>1</th>\n",
       "      <td>1_150746406_G_T_b37</td>\n",
       "      <td>ENSG00000163131</td>\n",
       "      <td>GM12878|chr1:150743625-150743717</td>\n",
       "      <td>GM12878|chr1:150737600-150738647</td>\n",
       "      <td>0.0</td>\n",
       "      <td>0.0</td>\n",
       "      <td>0.0</td>\n",
       "      <td>0.0</td>\n",
       "      <td>0.0</td>\n",
       "      <td>0.0</td>\n",
       "      <td>...</td>\n",
       "      <td>0.000000</td>\n",
       "      <td>0.0</td>\n",
       "      <td>72.707258</td>\n",
       "      <td>0.000000</td>\n",
       "      <td>0.0</td>\n",
       "      <td>0.0</td>\n",
       "      <td>0.0</td>\n",
       "      <td>0.0</td>\n",
       "      <td>0.0</td>\n",
       "      <td>0.0</td>\n",
       "    </tr>\n",
       "    <tr>\n",
       "      <th>2</th>\n",
       "      <td>1_150746406_G_T_b37</td>\n",
       "      <td>ENSG00000163131</td>\n",
       "      <td>GM12878|chr1:150743817-150744119</td>\n",
       "      <td>GM12878|chr1:150737600-150738647</td>\n",
       "      <td>0.0</td>\n",
       "      <td>0.0</td>\n",
       "      <td>0.0</td>\n",
       "      <td>0.0</td>\n",
       "      <td>0.0</td>\n",
       "      <td>0.0</td>\n",
       "      <td>...</td>\n",
       "      <td>0.000000</td>\n",
       "      <td>0.0</td>\n",
       "      <td>72.707258</td>\n",
       "      <td>0.000000</td>\n",
       "      <td>0.0</td>\n",
       "      <td>0.0</td>\n",
       "      <td>0.0</td>\n",
       "      <td>0.0</td>\n",
       "      <td>0.0</td>\n",
       "      <td>0.0</td>\n",
       "    </tr>\n",
       "    <tr>\n",
       "      <th>3</th>\n",
       "      <td>20_33729442_A_C_b37</td>\n",
       "      <td>ENSG00000101000</td>\n",
       "      <td>GM12878|chr20:33732345-33732953</td>\n",
       "      <td>GM12878|chr20:35200330-35204291</td>\n",
       "      <td>0.0</td>\n",
       "      <td>0.0</td>\n",
       "      <td>0.0</td>\n",
       "      <td>0.0</td>\n",
       "      <td>0.0</td>\n",
       "      <td>0.0</td>\n",
       "      <td>...</td>\n",
       "      <td>20.522111</td>\n",
       "      <td>0.0</td>\n",
       "      <td>0.000000</td>\n",
       "      <td>24.801033</td>\n",
       "      <td>0.0</td>\n",
       "      <td>0.0</td>\n",
       "      <td>0.0</td>\n",
       "      <td>0.0</td>\n",
       "      <td>0.0</td>\n",
       "      <td>0.0</td>\n",
       "    </tr>\n",
       "    <tr>\n",
       "      <th>4</th>\n",
       "      <td>11_842543_C_G_b37</td>\n",
       "      <td>ENSG00000177697</td>\n",
       "      <td>GM12878|chr11:843566-844649</td>\n",
       "      <td>GM12878|chr11:832697-833556</td>\n",
       "      <td>0.0</td>\n",
       "      <td>0.0</td>\n",
       "      <td>0.0</td>\n",
       "      <td>0.0</td>\n",
       "      <td>0.0</td>\n",
       "      <td>0.0</td>\n",
       "      <td>...</td>\n",
       "      <td>0.000000</td>\n",
       "      <td>0.0</td>\n",
       "      <td>0.000000</td>\n",
       "      <td>0.000000</td>\n",
       "      <td>0.0</td>\n",
       "      <td>0.0</td>\n",
       "      <td>0.0</td>\n",
       "      <td>0.0</td>\n",
       "      <td>0.0</td>\n",
       "      <td>0.0</td>\n",
       "    </tr>\n",
       "  </tbody>\n",
       "</table>\n",
       "<p>5 rows × 203 columns</p>\n",
       "</div>"
      ],
      "text/plain": [
       "            variant_id          gene_id                       enhancer_id  \\\n",
       "0  1_150746406_G_T_b37  ENSG00000163131  GM12878|chr1:150743400-150743433   \n",
       "1  1_150746406_G_T_b37  ENSG00000163131  GM12878|chr1:150743625-150743717   \n",
       "2  1_150746406_G_T_b37  ENSG00000163131  GM12878|chr1:150743817-150744119   \n",
       "3  20_33729442_A_C_b37  ENSG00000101000   GM12878|chr20:33732345-33732953   \n",
       "4    11_842543_C_G_b37  ENSG00000177697       GM12878|chr11:843566-844649   \n",
       "\n",
       "                        promoter_id  enhancer_ATF2  enhancer_ATF3  \\\n",
       "0  GM12878|chr1:150737600-150738647            0.0            0.0   \n",
       "1  GM12878|chr1:150737600-150738647            0.0            0.0   \n",
       "2  GM12878|chr1:150737600-150738647            0.0            0.0   \n",
       "3   GM12878|chr20:35200330-35204291            0.0            0.0   \n",
       "4       GM12878|chr11:832697-833556            0.0            0.0   \n",
       "\n",
       "   enhancer_BATF  enhancer_BCL11A  enhancer_BCL3  enhancer_BCLAF1  ...  \\\n",
       "0            0.0              0.0            0.0              0.0  ...   \n",
       "1            0.0              0.0            0.0              0.0  ...   \n",
       "2            0.0              0.0            0.0              0.0  ...   \n",
       "3            0.0              0.0            0.0              0.0  ...   \n",
       "4            0.0              0.0            0.0              0.0  ...   \n",
       "\n",
       "   promoter_TCF3  promoter_USF1  promoter_USF2  promoter_WRNIP1  promoter_YY1  \\\n",
       "0       0.000000            0.0      72.707258         0.000000           0.0   \n",
       "1       0.000000            0.0      72.707258         0.000000           0.0   \n",
       "2       0.000000            0.0      72.707258         0.000000           0.0   \n",
       "3      20.522111            0.0       0.000000        24.801033           0.0   \n",
       "4       0.000000            0.0       0.000000         0.000000           0.0   \n",
       "\n",
       "   promoter_ZBTB33  promoter_ZEB1  promoter_ZNF143  promoter_ZNF384  \\\n",
       "0              0.0            0.0              0.0              0.0   \n",
       "1              0.0            0.0              0.0              0.0   \n",
       "2              0.0            0.0              0.0              0.0   \n",
       "3              0.0            0.0              0.0              0.0   \n",
       "4              0.0            0.0              0.0              0.0   \n",
       "\n",
       "   promoter_ZZZ3  \n",
       "0            0.0  \n",
       "1            0.0  \n",
       "2            0.0  \n",
       "3            0.0  \n",
       "4            0.0  \n",
       "\n",
       "[5 rows x 203 columns]"
      ]
     },
     "execution_count": 42,
     "metadata": {},
     "output_type": "execute_result"
    }
   ],
   "source": [
    "pairs_df.head()"
   ]
  },
  {
   "cell_type": "code",
   "execution_count": 43,
   "metadata": {},
   "outputs": [],
   "source": [
    "pairs_df.to_csv('../data/GTEx_Analysis_v7_eQTL_EVB_linearData.csv.gz', index=False, compression='gzip')"
   ]
  }
 ],
 "metadata": {
  "kernelspec": {
   "display_name": "Python 3",
   "language": "python",
   "name": "python3"
  },
  "language_info": {
   "codemirror_mode": {
    "name": "ipython",
    "version": 3
   },
   "file_extension": ".py",
   "mimetype": "text/x-python",
   "name": "python",
   "nbconvert_exporter": "python",
   "pygments_lexer": "ipython3",
   "version": "3.6.7"
  }
 },
 "nbformat": 4,
 "nbformat_minor": 2
}
