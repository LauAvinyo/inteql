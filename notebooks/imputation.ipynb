{
 "cells": [
  {
   "cell_type": "code",
   "execution_count": 1,
   "metadata": {},
   "outputs": [],
   "source": [
    "import pandas as pd\n",
    "import numpy as np"
   ]
  },
  {
   "cell_type": "code",
   "execution_count": 7,
   "metadata": {},
   "outputs": [
    {
     "name": "stdout",
     "output_type": "stream",
     "text": [
      "(1349165, 48)\n"
     ]
    },
    {
     "data": {
      "text/html": [
       "<div>\n",
       "<style scoped>\n",
       "    .dataframe tbody tr th:only-of-type {\n",
       "        vertical-align: middle;\n",
       "    }\n",
       "\n",
       "    .dataframe tbody tr th {\n",
       "        vertical-align: top;\n",
       "    }\n",
       "\n",
       "    .dataframe thead th {\n",
       "        text-align: right;\n",
       "    }\n",
       "</style>\n",
       "<table border=\"1\" class=\"dataframe\">\n",
       "  <thead>\n",
       "    <tr style=\"text-align: right;\">\n",
       "      <th></th>\n",
       "      <th>Adipose_Subcutaneous</th>\n",
       "      <th>Adipose_Visceral_Omentum</th>\n",
       "      <th>Adrenal_Gland</th>\n",
       "      <th>Artery_Aorta</th>\n",
       "      <th>Artery_Coronary</th>\n",
       "      <th>Artery_Tibial</th>\n",
       "      <th>Brain_Amygdala</th>\n",
       "      <th>Brain_Anterior_cingulate_cortex_BA24</th>\n",
       "      <th>Brain_Caudate_basal_ganglia</th>\n",
       "      <th>Brain_Cerebellar_Hemisphere</th>\n",
       "      <th>...</th>\n",
       "      <th>Skin_Sun_Exposed_Lower_leg</th>\n",
       "      <th>Small_Intestine_Terminal_Ileum</th>\n",
       "      <th>Spleen</th>\n",
       "      <th>Stomach</th>\n",
       "      <th>Testis</th>\n",
       "      <th>Thyroid</th>\n",
       "      <th>Uterus</th>\n",
       "      <th>Vagina</th>\n",
       "      <th>Whole_Blood</th>\n",
       "      <th>Cells_EBV-transformed_lymphocytes</th>\n",
       "    </tr>\n",
       "  </thead>\n",
       "  <tbody>\n",
       "    <tr>\n",
       "      <th>0</th>\n",
       "      <td>NaN</td>\n",
       "      <td>NaN</td>\n",
       "      <td>NaN</td>\n",
       "      <td>NaN</td>\n",
       "      <td>NaN</td>\n",
       "      <td>-0.146567</td>\n",
       "      <td>NaN</td>\n",
       "      <td>NaN</td>\n",
       "      <td>NaN</td>\n",
       "      <td>NaN</td>\n",
       "      <td>...</td>\n",
       "      <td>NaN</td>\n",
       "      <td>NaN</td>\n",
       "      <td>NaN</td>\n",
       "      <td>NaN</td>\n",
       "      <td>NaN</td>\n",
       "      <td>NaN</td>\n",
       "      <td>NaN</td>\n",
       "      <td>NaN</td>\n",
       "      <td>NaN</td>\n",
       "      <td>NaN</td>\n",
       "    </tr>\n",
       "    <tr>\n",
       "      <th>1</th>\n",
       "      <td>NaN</td>\n",
       "      <td>NaN</td>\n",
       "      <td>NaN</td>\n",
       "      <td>NaN</td>\n",
       "      <td>NaN</td>\n",
       "      <td>NaN</td>\n",
       "      <td>NaN</td>\n",
       "      <td>NaN</td>\n",
       "      <td>NaN</td>\n",
       "      <td>NaN</td>\n",
       "      <td>...</td>\n",
       "      <td>NaN</td>\n",
       "      <td>NaN</td>\n",
       "      <td>NaN</td>\n",
       "      <td>NaN</td>\n",
       "      <td>NaN</td>\n",
       "      <td>NaN</td>\n",
       "      <td>NaN</td>\n",
       "      <td>NaN</td>\n",
       "      <td>NaN</td>\n",
       "      <td>NaN</td>\n",
       "    </tr>\n",
       "    <tr>\n",
       "      <th>2</th>\n",
       "      <td>0.692326</td>\n",
       "      <td>0.712692</td>\n",
       "      <td>1.14229</td>\n",
       "      <td>0.531796</td>\n",
       "      <td>NaN</td>\n",
       "      <td>NaN</td>\n",
       "      <td>NaN</td>\n",
       "      <td>0.689146</td>\n",
       "      <td>0.593498</td>\n",
       "      <td>NaN</td>\n",
       "      <td>...</td>\n",
       "      <td>0.941748</td>\n",
       "      <td>NaN</td>\n",
       "      <td>0.826604</td>\n",
       "      <td>0.658147</td>\n",
       "      <td>0.427333</td>\n",
       "      <td>0.473418</td>\n",
       "      <td>NaN</td>\n",
       "      <td>NaN</td>\n",
       "      <td>0.794383</td>\n",
       "      <td>1.03219</td>\n",
       "    </tr>\n",
       "    <tr>\n",
       "      <th>3</th>\n",
       "      <td>NaN</td>\n",
       "      <td>NaN</td>\n",
       "      <td>NaN</td>\n",
       "      <td>NaN</td>\n",
       "      <td>-0.591224</td>\n",
       "      <td>-0.307221</td>\n",
       "      <td>NaN</td>\n",
       "      <td>NaN</td>\n",
       "      <td>NaN</td>\n",
       "      <td>NaN</td>\n",
       "      <td>...</td>\n",
       "      <td>-0.379419</td>\n",
       "      <td>NaN</td>\n",
       "      <td>NaN</td>\n",
       "      <td>-0.374231</td>\n",
       "      <td>NaN</td>\n",
       "      <td>-0.439161</td>\n",
       "      <td>NaN</td>\n",
       "      <td>NaN</td>\n",
       "      <td>-0.317301</td>\n",
       "      <td>NaN</td>\n",
       "    </tr>\n",
       "    <tr>\n",
       "      <th>4</th>\n",
       "      <td>NaN</td>\n",
       "      <td>NaN</td>\n",
       "      <td>NaN</td>\n",
       "      <td>NaN</td>\n",
       "      <td>NaN</td>\n",
       "      <td>NaN</td>\n",
       "      <td>NaN</td>\n",
       "      <td>NaN</td>\n",
       "      <td>NaN</td>\n",
       "      <td>NaN</td>\n",
       "      <td>...</td>\n",
       "      <td>NaN</td>\n",
       "      <td>NaN</td>\n",
       "      <td>NaN</td>\n",
       "      <td>NaN</td>\n",
       "      <td>NaN</td>\n",
       "      <td>NaN</td>\n",
       "      <td>NaN</td>\n",
       "      <td>NaN</td>\n",
       "      <td>0.225490</td>\n",
       "      <td>NaN</td>\n",
       "    </tr>\n",
       "  </tbody>\n",
       "</table>\n",
       "<p>5 rows × 48 columns</p>\n",
       "</div>"
      ],
      "text/plain": [
       "   Adipose_Subcutaneous  Adipose_Visceral_Omentum  Adrenal_Gland  \\\n",
       "0                   NaN                       NaN            NaN   \n",
       "1                   NaN                       NaN            NaN   \n",
       "2              0.692326                  0.712692        1.14229   \n",
       "3                   NaN                       NaN            NaN   \n",
       "4                   NaN                       NaN            NaN   \n",
       "\n",
       "   Artery_Aorta  Artery_Coronary  Artery_Tibial  Brain_Amygdala  \\\n",
       "0           NaN              NaN      -0.146567             NaN   \n",
       "1           NaN              NaN            NaN             NaN   \n",
       "2      0.531796              NaN            NaN             NaN   \n",
       "3           NaN        -0.591224      -0.307221             NaN   \n",
       "4           NaN              NaN            NaN             NaN   \n",
       "\n",
       "   Brain_Anterior_cingulate_cortex_BA24  Brain_Caudate_basal_ganglia  \\\n",
       "0                                   NaN                          NaN   \n",
       "1                                   NaN                          NaN   \n",
       "2                              0.689146                     0.593498   \n",
       "3                                   NaN                          NaN   \n",
       "4                                   NaN                          NaN   \n",
       "\n",
       "   Brain_Cerebellar_Hemisphere  ...  Skin_Sun_Exposed_Lower_leg  \\\n",
       "0                          NaN  ...                         NaN   \n",
       "1                          NaN  ...                         NaN   \n",
       "2                          NaN  ...                    0.941748   \n",
       "3                          NaN  ...                   -0.379419   \n",
       "4                          NaN  ...                         NaN   \n",
       "\n",
       "   Small_Intestine_Terminal_Ileum    Spleen   Stomach    Testis   Thyroid  \\\n",
       "0                             NaN       NaN       NaN       NaN       NaN   \n",
       "1                             NaN       NaN       NaN       NaN       NaN   \n",
       "2                             NaN  0.826604  0.658147  0.427333  0.473418   \n",
       "3                             NaN       NaN -0.374231       NaN -0.439161   \n",
       "4                             NaN       NaN       NaN       NaN       NaN   \n",
       "\n",
       "   Uterus  Vagina  Whole_Blood  Cells_EBV-transformed_lymphocytes  \n",
       "0     NaN     NaN          NaN                                NaN  \n",
       "1     NaN     NaN          NaN                                NaN  \n",
       "2     NaN     NaN     0.794383                            1.03219  \n",
       "3     NaN     NaN    -0.317301                                NaN  \n",
       "4     NaN     NaN     0.225490                                NaN  \n",
       "\n",
       "[5 rows x 48 columns]"
      ]
     },
     "execution_count": 7,
     "metadata": {},
     "output_type": "execute_result"
    }
   ],
   "source": [
    "# Read eqtl\n",
    "eqtl = pd.read_csv('../github/data/GTEx_Analysis_v7_eQTL_allTissues_slope_top.csv.gz')\n",
    "eqtl = eqtl.drop(columns=['gene_id', 'variant_id'])\n",
    "print(eqtl.shape)\n",
    "eqtl.head()"
   ]
  },
  {
   "cell_type": "markdown",
   "metadata": {},
   "source": [
    "# Prepare for figure 2"
   ]
  },
  {
   "cell_type": "code",
   "execution_count": 8,
   "metadata": {},
   "outputs": [],
   "source": [
    "# Get labels\n",
    "y_label = 'Cells_EBV-transformed_lymphocytes'\n",
    "X_label = list(i for i in eqtl.columns if i!=y_label)"
   ]
  },
  {
   "cell_type": "code",
   "execution_count": 79,
   "metadata": {},
   "outputs": [],
   "source": [
    "# Get the data the eQTL for that tissue\n",
    "data = eqtl[np.invert(pd.isna(eqtl[y_label]))]\n",
    "# Get the eQTL that are not specific\n",
    "data = data[np.invert(pd.isna(data[X_label])).sum(axis=1) != 0]"
   ]
  },
  {
   "cell_type": "code",
   "execution_count": 85,
   "metadata": {},
   "outputs": [
    {
     "data": {
      "text/plain": [
       "2     0.767081\n",
       "47   -0.908906\n",
       "49   -0.578122\n",
       "dtype: float64"
      ]
     },
     "execution_count": 85,
     "metadata": {},
     "output_type": "execute_result"
    }
   ],
   "source": [
    "mean = data[X_label].mean(axis=1)\n",
    "mean[:3]"
   ]
  },
  {
   "cell_type": "code",
   "execution_count": 86,
   "metadata": {},
   "outputs": [
    {
     "name": "stdout",
     "output_type": "stream",
     "text": [
      "2     26\n",
      "47    46\n",
      "49    36\n",
      "dtype: int64\n"
     ]
    }
   ],
   "source": [
    "howMany = np.invert(pd.isna(data[X_label])).sum(axis=1)\n",
    "print(how_many[:3])"
   ]
  },
  {
   "cell_type": "code",
   "execution_count": 87,
   "metadata": {},
   "outputs": [],
   "source": [
    "pd.DataFrame({'RealValue':data[y_label], 'MeanImputed':mean, 'HowManyTissues':howMany}).to_csv('../github/data/data_figure2.csv', index=False)"
   ]
  },
  {
   "cell_type": "markdown",
   "metadata": {},
   "source": [
    "# Prepare for figure 3"
   ]
  },
  {
   "cell_type": "code",
   "execution_count": 2,
   "metadata": {},
   "outputs": [],
   "source": [
    "import os\n",
    "\n",
    "import rpy2.robjects as robjects\n",
    "from rpy2.robjects import pandas2ri\n",
    "pandas2ri.activate()\n",
    "readRDS = robjects.r['readRDS']\n",
    "\n",
    "from sklearn.metrics import pairwise_distances, mean_squared_error\n",
    "from sklearn.model_selection import train_test_split\n",
    "from sklearn.ensemble import ExtraTreesRegressor, RandomForestRegressor\n",
    "\n",
    "from scipy.stats import linregress, ttest_rel"
   ]
  },
  {
   "cell_type": "code",
   "execution_count": 3,
   "metadata": {},
   "outputs": [],
   "source": [
    "tissues_id = []\n",
    "with open('../github/data/GTEx_v7_Annotations_TissuesId.txt') as f:\n",
    "    for line in f:\n",
    "        tissues_id.append(line.strip())"
   ]
  },
  {
   "cell_type": "markdown",
   "metadata": {},
   "source": [
    "### Weights by PCA"
   ]
  },
  {
   "cell_type": "code",
   "execution_count": 4,
   "metadata": {},
   "outputs": [
    {
     "data": {
      "text/html": [
       "<div>\n",
       "<style scoped>\n",
       "    .dataframe tbody tr th:only-of-type {\n",
       "        vertical-align: middle;\n",
       "    }\n",
       "\n",
       "    .dataframe tbody tr th {\n",
       "        vertical-align: top;\n",
       "    }\n",
       "\n",
       "    .dataframe thead th {\n",
       "        text-align: right;\n",
       "    }\n",
       "</style>\n",
       "<table border=\"1\" class=\"dataframe\">\n",
       "  <thead>\n",
       "    <tr style=\"text-align: right;\">\n",
       "      <th></th>\n",
       "      <th>PC1</th>\n",
       "      <th>PC2</th>\n",
       "      <th>tissue</th>\n",
       "    </tr>\n",
       "  </thead>\n",
       "  <tbody>\n",
       "    <tr>\n",
       "      <th>0</th>\n",
       "      <td>-68.514239</td>\n",
       "      <td>5.674978</td>\n",
       "      <td>Adipose_Subcutaneous</td>\n",
       "    </tr>\n",
       "    <tr>\n",
       "      <th>1</th>\n",
       "      <td>-55.787419</td>\n",
       "      <td>0.207527</td>\n",
       "      <td>Adipose_Subcutaneous</td>\n",
       "    </tr>\n",
       "    <tr>\n",
       "      <th>2</th>\n",
       "      <td>-52.186166</td>\n",
       "      <td>-14.057167</td>\n",
       "      <td>Adipose_Subcutaneous</td>\n",
       "    </tr>\n",
       "    <tr>\n",
       "      <th>3</th>\n",
       "      <td>-48.939190</td>\n",
       "      <td>10.501181</td>\n",
       "      <td>Adipose_Subcutaneous</td>\n",
       "    </tr>\n",
       "    <tr>\n",
       "      <th>4</th>\n",
       "      <td>-23.998738</td>\n",
       "      <td>5.331621</td>\n",
       "      <td>Adipose_Subcutaneous</td>\n",
       "    </tr>\n",
       "  </tbody>\n",
       "</table>\n",
       "</div>"
      ],
      "text/plain": [
       "         PC1        PC2                tissue\n",
       "0 -68.514239   5.674978  Adipose_Subcutaneous\n",
       "1 -55.787419   0.207527  Adipose_Subcutaneous\n",
       "2 -52.186166 -14.057167  Adipose_Subcutaneous\n",
       "3 -48.939190  10.501181  Adipose_Subcutaneous\n",
       "4 -23.998738   5.331621  Adipose_Subcutaneous"
      ]
     },
     "execution_count": 4,
     "metadata": {},
     "output_type": "execute_result"
    }
   ],
   "source": [
    "pc = readRDS('../github/objects/GTEx_Analysis_2016-01-15_v7_RNASeQCv1.1.8_gene_tpm_top_pcsX.rds')\n",
    "pc = pandas2ri.ri2py(pc)\n",
    "pc = pd.DataFrame(pc, columns=['PC1', 'PC2'])\n",
    "pc['tissue'] = tissues_id\n",
    "pc.head()"
   ]
  },
  {
   "cell_type": "code",
   "execution_count": 5,
   "metadata": {},
   "outputs": [
    {
     "data": {
      "text/plain": [
       "(53, 2)"
      ]
     },
     "execution_count": 5,
     "metadata": {},
     "output_type": "execute_result"
    }
   ],
   "source": [
    "centroids_pc = pc.groupby('tissue')['PC1','PC2'].apply(np.mean)\n",
    "centroids_pc.shape"
   ]
  },
  {
   "cell_type": "code",
   "execution_count": 19,
   "metadata": {},
   "outputs": [
    {
     "name": "stderr",
     "output_type": "stream",
     "text": [
      "/home/lau/.local/lib/python3.6/site-packages/ipykernel_launcher.py:1: RuntimeWarning: divide by zero encountered in true_divide\n",
      "  \"\"\"Entry point for launching an IPython kernel.\n"
     ]
    }
   ],
   "source": [
    "df_pc = pd.DataFrame(1/pairwise_distances(centroids_pc), columns=centroids_pc.index, index=centroids_pc.index).replace(np.inf, 0)"
   ]
  },
  {
   "cell_type": "markdown",
   "metadata": {},
   "source": [
    "### Weights by Tsne"
   ]
  },
  {
   "cell_type": "code",
   "execution_count": 21,
   "metadata": {},
   "outputs": [
    {
     "data": {
      "text/html": [
       "<div>\n",
       "<style scoped>\n",
       "    .dataframe tbody tr th:only-of-type {\n",
       "        vertical-align: middle;\n",
       "    }\n",
       "\n",
       "    .dataframe tbody tr th {\n",
       "        vertical-align: top;\n",
       "    }\n",
       "\n",
       "    .dataframe thead th {\n",
       "        text-align: right;\n",
       "    }\n",
       "</style>\n",
       "<table border=\"1\" class=\"dataframe\">\n",
       "  <thead>\n",
       "    <tr style=\"text-align: right;\">\n",
       "      <th></th>\n",
       "      <th>x</th>\n",
       "      <th>y</th>\n",
       "      <th>tissue</th>\n",
       "    </tr>\n",
       "  </thead>\n",
       "  <tbody>\n",
       "    <tr>\n",
       "      <th>0</th>\n",
       "      <td>25.209791</td>\n",
       "      <td>21.142145</td>\n",
       "      <td>Adipose_Subcutaneous</td>\n",
       "    </tr>\n",
       "    <tr>\n",
       "      <th>1</th>\n",
       "      <td>22.632450</td>\n",
       "      <td>15.242824</td>\n",
       "      <td>Adipose_Subcutaneous</td>\n",
       "    </tr>\n",
       "    <tr>\n",
       "      <th>2</th>\n",
       "      <td>19.787278</td>\n",
       "      <td>7.927666</td>\n",
       "      <td>Adipose_Subcutaneous</td>\n",
       "    </tr>\n",
       "    <tr>\n",
       "      <th>3</th>\n",
       "      <td>25.956711</td>\n",
       "      <td>3.907033</td>\n",
       "      <td>Adipose_Subcutaneous</td>\n",
       "    </tr>\n",
       "    <tr>\n",
       "      <th>4</th>\n",
       "      <td>30.342241</td>\n",
       "      <td>17.143636</td>\n",
       "      <td>Adipose_Subcutaneous</td>\n",
       "    </tr>\n",
       "  </tbody>\n",
       "</table>\n",
       "</div>"
      ],
      "text/plain": [
       "           x          y                tissue\n",
       "0  25.209791  21.142145  Adipose_Subcutaneous\n",
       "1  22.632450  15.242824  Adipose_Subcutaneous\n",
       "2  19.787278   7.927666  Adipose_Subcutaneous\n",
       "3  25.956711   3.907033  Adipose_Subcutaneous\n",
       "4  30.342241  17.143636  Adipose_Subcutaneous"
      ]
     },
     "execution_count": 21,
     "metadata": {},
     "output_type": "execute_result"
    }
   ],
   "source": [
    "ts = readRDS('../github/objects/GTEx_Analysis_2016-01-15_v7_RNASeQCv1.1.8_gene_tpm_top_tsne.rds')\n",
    "ts = pandas2ri.ri2py(ts)\n",
    "ts = pd.DataFrame(ts, columns=['x', 'y'])\n",
    "ts['tissue'] = tissues_id\n",
    "ts.head()"
   ]
  },
  {
   "cell_type": "code",
   "execution_count": 22,
   "metadata": {},
   "outputs": [
    {
     "data": {
      "text/plain": [
       "(53, 2)"
      ]
     },
     "execution_count": 22,
     "metadata": {},
     "output_type": "execute_result"
    }
   ],
   "source": [
    "centroids_ts = ts.groupby('tissue')['x','y'].apply(np.mean)\n",
    "centroids_ts.shape"
   ]
  },
  {
   "cell_type": "code",
   "execution_count": 23,
   "metadata": {},
   "outputs": [
    {
     "name": "stderr",
     "output_type": "stream",
     "text": [
      "/home/lau/.local/lib/python3.6/site-packages/ipykernel_launcher.py:1: RuntimeWarning: divide by zero encountered in true_divide\n",
      "  \"\"\"Entry point for launching an IPython kernel.\n"
     ]
    }
   ],
   "source": [
    "df_ts = pd.DataFrame(1/pairwise_distances(centroids_ts), columns=centroids_ts.index, index=centroids_ts.index).replace(np.inf, 0)"
   ]
  },
  {
   "cell_type": "code",
   "execution_count": 75,
   "metadata": {},
   "outputs": [
    {
     "name": "stdout",
     "output_type": "stream",
     "text": [
      "(723420, 48)\n"
     ]
    },
    {
     "data": {
      "text/html": [
       "<div>\n",
       "<style scoped>\n",
       "    .dataframe tbody tr th:only-of-type {\n",
       "        vertical-align: middle;\n",
       "    }\n",
       "\n",
       "    .dataframe tbody tr th {\n",
       "        vertical-align: top;\n",
       "    }\n",
       "\n",
       "    .dataframe thead th {\n",
       "        text-align: right;\n",
       "    }\n",
       "</style>\n",
       "<table border=\"1\" class=\"dataframe\">\n",
       "  <thead>\n",
       "    <tr style=\"text-align: right;\">\n",
       "      <th></th>\n",
       "      <th>Adipose_Subcutaneous</th>\n",
       "      <th>Adipose_Visceral_Omentum</th>\n",
       "      <th>Adrenal_Gland</th>\n",
       "      <th>Artery_Aorta</th>\n",
       "      <th>Artery_Coronary</th>\n",
       "      <th>Artery_Tibial</th>\n",
       "      <th>Brain_Amygdala</th>\n",
       "      <th>Brain_Anterior_cingulate_cortex_BA24</th>\n",
       "      <th>Brain_Caudate_basal_ganglia</th>\n",
       "      <th>Brain_Cerebellar_Hemisphere</th>\n",
       "      <th>...</th>\n",
       "      <th>Skin_Sun_Exposed_Lower_leg</th>\n",
       "      <th>Small_Intestine_Terminal_Ileum</th>\n",
       "      <th>Spleen</th>\n",
       "      <th>Stomach</th>\n",
       "      <th>Testis</th>\n",
       "      <th>Thyroid</th>\n",
       "      <th>Uterus</th>\n",
       "      <th>Vagina</th>\n",
       "      <th>Whole_Blood</th>\n",
       "      <th>Cells_EBV-transformed_lymphocytes</th>\n",
       "    </tr>\n",
       "  </thead>\n",
       "  <tbody>\n",
       "    <tr>\n",
       "      <th>0</th>\n",
       "      <td>NaN</td>\n",
       "      <td>NaN</td>\n",
       "      <td>NaN</td>\n",
       "      <td>NaN</td>\n",
       "      <td>NaN</td>\n",
       "      <td>-0.146567</td>\n",
       "      <td>NaN</td>\n",
       "      <td>NaN</td>\n",
       "      <td>NaN</td>\n",
       "      <td>NaN</td>\n",
       "      <td>...</td>\n",
       "      <td>NaN</td>\n",
       "      <td>NaN</td>\n",
       "      <td>NaN</td>\n",
       "      <td>NaN</td>\n",
       "      <td>NaN</td>\n",
       "      <td>NaN</td>\n",
       "      <td>NaN</td>\n",
       "      <td>NaN</td>\n",
       "      <td>NaN</td>\n",
       "      <td>NaN</td>\n",
       "    </tr>\n",
       "    <tr>\n",
       "      <th>1</th>\n",
       "      <td>NaN</td>\n",
       "      <td>NaN</td>\n",
       "      <td>NaN</td>\n",
       "      <td>NaN</td>\n",
       "      <td>NaN</td>\n",
       "      <td>NaN</td>\n",
       "      <td>NaN</td>\n",
       "      <td>NaN</td>\n",
       "      <td>NaN</td>\n",
       "      <td>NaN</td>\n",
       "      <td>...</td>\n",
       "      <td>NaN</td>\n",
       "      <td>NaN</td>\n",
       "      <td>NaN</td>\n",
       "      <td>NaN</td>\n",
       "      <td>NaN</td>\n",
       "      <td>NaN</td>\n",
       "      <td>NaN</td>\n",
       "      <td>NaN</td>\n",
       "      <td>NaN</td>\n",
       "      <td>NaN</td>\n",
       "    </tr>\n",
       "    <tr>\n",
       "      <th>2</th>\n",
       "      <td>0.692326</td>\n",
       "      <td>0.712692</td>\n",
       "      <td>1.14229</td>\n",
       "      <td>0.531796</td>\n",
       "      <td>NaN</td>\n",
       "      <td>NaN</td>\n",
       "      <td>NaN</td>\n",
       "      <td>0.689146</td>\n",
       "      <td>0.593498</td>\n",
       "      <td>NaN</td>\n",
       "      <td>...</td>\n",
       "      <td>0.941748</td>\n",
       "      <td>NaN</td>\n",
       "      <td>0.826604</td>\n",
       "      <td>0.658147</td>\n",
       "      <td>0.427333</td>\n",
       "      <td>0.473418</td>\n",
       "      <td>NaN</td>\n",
       "      <td>NaN</td>\n",
       "      <td>0.794383</td>\n",
       "      <td>1.03219</td>\n",
       "    </tr>\n",
       "    <tr>\n",
       "      <th>3</th>\n",
       "      <td>NaN</td>\n",
       "      <td>NaN</td>\n",
       "      <td>NaN</td>\n",
       "      <td>NaN</td>\n",
       "      <td>-0.591224</td>\n",
       "      <td>-0.307221</td>\n",
       "      <td>NaN</td>\n",
       "      <td>NaN</td>\n",
       "      <td>NaN</td>\n",
       "      <td>NaN</td>\n",
       "      <td>...</td>\n",
       "      <td>-0.379419</td>\n",
       "      <td>NaN</td>\n",
       "      <td>NaN</td>\n",
       "      <td>-0.374231</td>\n",
       "      <td>NaN</td>\n",
       "      <td>-0.439161</td>\n",
       "      <td>NaN</td>\n",
       "      <td>NaN</td>\n",
       "      <td>-0.317301</td>\n",
       "      <td>NaN</td>\n",
       "    </tr>\n",
       "    <tr>\n",
       "      <th>4</th>\n",
       "      <td>NaN</td>\n",
       "      <td>NaN</td>\n",
       "      <td>NaN</td>\n",
       "      <td>NaN</td>\n",
       "      <td>NaN</td>\n",
       "      <td>NaN</td>\n",
       "      <td>NaN</td>\n",
       "      <td>NaN</td>\n",
       "      <td>NaN</td>\n",
       "      <td>NaN</td>\n",
       "      <td>...</td>\n",
       "      <td>NaN</td>\n",
       "      <td>NaN</td>\n",
       "      <td>NaN</td>\n",
       "      <td>NaN</td>\n",
       "      <td>NaN</td>\n",
       "      <td>NaN</td>\n",
       "      <td>NaN</td>\n",
       "      <td>NaN</td>\n",
       "      <td>0.225490</td>\n",
       "      <td>NaN</td>\n",
       "    </tr>\n",
       "  </tbody>\n",
       "</table>\n",
       "<p>5 rows × 48 columns</p>\n",
       "</div>"
      ],
      "text/plain": [
       "   Adipose_Subcutaneous  Adipose_Visceral_Omentum  Adrenal_Gland  \\\n",
       "0                   NaN                       NaN            NaN   \n",
       "1                   NaN                       NaN            NaN   \n",
       "2              0.692326                  0.712692        1.14229   \n",
       "3                   NaN                       NaN            NaN   \n",
       "4                   NaN                       NaN            NaN   \n",
       "\n",
       "   Artery_Aorta  Artery_Coronary  Artery_Tibial  Brain_Amygdala  \\\n",
       "0           NaN              NaN      -0.146567             NaN   \n",
       "1           NaN              NaN            NaN             NaN   \n",
       "2      0.531796              NaN            NaN             NaN   \n",
       "3           NaN        -0.591224      -0.307221             NaN   \n",
       "4           NaN              NaN            NaN             NaN   \n",
       "\n",
       "   Brain_Anterior_cingulate_cortex_BA24  Brain_Caudate_basal_ganglia  \\\n",
       "0                                   NaN                          NaN   \n",
       "1                                   NaN                          NaN   \n",
       "2                              0.689146                     0.593498   \n",
       "3                                   NaN                          NaN   \n",
       "4                                   NaN                          NaN   \n",
       "\n",
       "   Brain_Cerebellar_Hemisphere  ...  Skin_Sun_Exposed_Lower_leg  \\\n",
       "0                          NaN  ...                         NaN   \n",
       "1                          NaN  ...                         NaN   \n",
       "2                          NaN  ...                    0.941748   \n",
       "3                          NaN  ...                   -0.379419   \n",
       "4                          NaN  ...                         NaN   \n",
       "\n",
       "   Small_Intestine_Terminal_Ileum    Spleen   Stomach    Testis   Thyroid  \\\n",
       "0                             NaN       NaN       NaN       NaN       NaN   \n",
       "1                             NaN       NaN       NaN       NaN       NaN   \n",
       "2                             NaN  0.826604  0.658147  0.427333  0.473418   \n",
       "3                             NaN       NaN -0.374231       NaN -0.439161   \n",
       "4                             NaN       NaN       NaN       NaN       NaN   \n",
       "\n",
       "   Uterus  Vagina  Whole_Blood  Cells_EBV-transformed_lymphocytes  \n",
       "0     NaN     NaN          NaN                                NaN  \n",
       "1     NaN     NaN          NaN                                NaN  \n",
       "2     NaN     NaN     0.794383                            1.03219  \n",
       "3     NaN     NaN    -0.317301                                NaN  \n",
       "4     NaN     NaN     0.225490                                NaN  \n",
       "\n",
       "[5 rows x 48 columns]"
      ]
     },
     "execution_count": 75,
     "metadata": {},
     "output_type": "execute_result"
    }
   ],
   "source": [
    "eqtl_s = eqtl[np.invert(pd.isna(eqtl)).sum(axis=1) != 1]\n",
    "print(eqtl_s.shape)\n",
    "eqtl.head()"
   ]
  },
  {
   "cell_type": "code",
   "execution_count": 76,
   "metadata": {},
   "outputs": [
    {
     "name": "stdout",
     "output_type": "stream",
     "text": [
      "Adipose_Subcutaneous\t(257179, 48)\n",
      "(239850, 48)\n",
      "Model...\n"
     ]
    },
    {
     "name": "stderr",
     "output_type": "stream",
     "text": [
      "/home/lau/.local/lib/python3.6/site-packages/sklearn/ensemble/forest.py:245: FutureWarning: The default value of n_estimators will change from 10 in version 0.20 to 100 in 0.22.\n",
      "  \"10 in version 0.20 to 100 in 0.22.\", FutureWarning)\n"
     ]
    },
    {
     "name": "stdout",
     "output_type": "stream",
     "text": [
      "Mean...\tPCA...\ttSNE...\n",
      "Adipose_Visceral_Omentum\t(161362, 48)\n",
      "(156976, 48)\n",
      "Model...\n"
     ]
    },
    {
     "name": "stderr",
     "output_type": "stream",
     "text": [
      "/home/lau/.local/lib/python3.6/site-packages/sklearn/ensemble/forest.py:245: FutureWarning: The default value of n_estimators will change from 10 in version 0.20 to 100 in 0.22.\n",
      "  \"10 in version 0.20 to 100 in 0.22.\", FutureWarning)\n"
     ]
    },
    {
     "name": "stdout",
     "output_type": "stream",
     "text": [
      "Mean...\tPCA...\ttSNE...\n",
      "Adrenal_Gland\t(76716, 48)\n",
      "(72670, 48)\n",
      "Model...\n"
     ]
    },
    {
     "name": "stderr",
     "output_type": "stream",
     "text": [
      "/home/lau/.local/lib/python3.6/site-packages/sklearn/ensemble/forest.py:245: FutureWarning: The default value of n_estimators will change from 10 in version 0.20 to 100 in 0.22.\n",
      "  \"10 in version 0.20 to 100 in 0.22.\", FutureWarning)\n"
     ]
    },
    {
     "name": "stdout",
     "output_type": "stream",
     "text": [
      "Mean...\tPCA...\ttSNE...\n",
      "Artery_Aorta\t(190016, 48)\n",
      "(177960, 48)\n",
      "Model...\n"
     ]
    },
    {
     "name": "stderr",
     "output_type": "stream",
     "text": [
      "/home/lau/.local/lib/python3.6/site-packages/sklearn/ensemble/forest.py:245: FutureWarning: The default value of n_estimators will change from 10 in version 0.20 to 100 in 0.22.\n",
      "  \"10 in version 0.20 to 100 in 0.22.\", FutureWarning)\n"
     ]
    },
    {
     "name": "stdout",
     "output_type": "stream",
     "text": [
      "Mean...\tPCA...\ttSNE...\n",
      "Artery_Coronary\t(51651, 48)\n",
      "(51245, 48)\n",
      "Model...\n"
     ]
    },
    {
     "name": "stderr",
     "output_type": "stream",
     "text": [
      "/home/lau/.local/lib/python3.6/site-packages/sklearn/ensemble/forest.py:245: FutureWarning: The default value of n_estimators will change from 10 in version 0.20 to 100 in 0.22.\n",
      "  \"10 in version 0.20 to 100 in 0.22.\", FutureWarning)\n"
     ]
    },
    {
     "name": "stdout",
     "output_type": "stream",
     "text": [
      "Mean...\tPCA...\ttSNE...\n",
      "Artery_Tibial\t(287638, 48)\n",
      "(261132, 48)\n",
      "Model...\n"
     ]
    },
    {
     "name": "stderr",
     "output_type": "stream",
     "text": [
      "/home/lau/.local/lib/python3.6/site-packages/sklearn/ensemble/forest.py:245: FutureWarning: The default value of n_estimators will change from 10 in version 0.20 to 100 in 0.22.\n",
      "  \"10 in version 0.20 to 100 in 0.22.\", FutureWarning)\n"
     ]
    },
    {
     "name": "stdout",
     "output_type": "stream",
     "text": [
      "Mean...\tPCA...\ttSNE...\n",
      "Brain_Amygdala\t(16959, 48)\n",
      "(16803, 48)\n",
      "Model...\n"
     ]
    },
    {
     "name": "stderr",
     "output_type": "stream",
     "text": [
      "/home/lau/.local/lib/python3.6/site-packages/sklearn/ensemble/forest.py:245: FutureWarning: The default value of n_estimators will change from 10 in version 0.20 to 100 in 0.22.\n",
      "  \"10 in version 0.20 to 100 in 0.22.\", FutureWarning)\n"
     ]
    },
    {
     "name": "stdout",
     "output_type": "stream",
     "text": [
      "Mean...\tPCA...\ttSNE...\n",
      "Brain_Anterior_cingulate_cortex_BA24\t(35000, 48)\n",
      "(34229, 48)\n",
      "Model...\n"
     ]
    },
    {
     "name": "stderr",
     "output_type": "stream",
     "text": [
      "/home/lau/.local/lib/python3.6/site-packages/sklearn/ensemble/forest.py:245: FutureWarning: The default value of n_estimators will change from 10 in version 0.20 to 100 in 0.22.\n",
      "  \"10 in version 0.20 to 100 in 0.22.\", FutureWarning)\n"
     ]
    },
    {
     "name": "stdout",
     "output_type": "stream",
     "text": [
      "Mean...\tPCA...\ttSNE...\n",
      "Brain_Caudate_basal_ganglia\t(52638, 48)\n",
      "(51502, 48)\n",
      "Model...\n"
     ]
    },
    {
     "name": "stderr",
     "output_type": "stream",
     "text": [
      "/home/lau/.local/lib/python3.6/site-packages/sklearn/ensemble/forest.py:245: FutureWarning: The default value of n_estimators will change from 10 in version 0.20 to 100 in 0.22.\n",
      "  \"10 in version 0.20 to 100 in 0.22.\", FutureWarning)\n"
     ]
    },
    {
     "name": "stdout",
     "output_type": "stream",
     "text": [
      "Mean...\tPCA...\ttSNE...\n",
      "Brain_Cerebellar_Hemisphere\t(76693, 48)\n",
      "(66983, 48)\n",
      "Model...\n"
     ]
    },
    {
     "name": "stderr",
     "output_type": "stream",
     "text": [
      "/home/lau/.local/lib/python3.6/site-packages/sklearn/ensemble/forest.py:245: FutureWarning: The default value of n_estimators will change from 10 in version 0.20 to 100 in 0.22.\n",
      "  \"10 in version 0.20 to 100 in 0.22.\", FutureWarning)\n"
     ]
    },
    {
     "name": "stdout",
     "output_type": "stream",
     "text": [
      "Mean...\tPCA...\ttSNE...\n",
      "Brain_Cerebellum\t(122560, 48)\n",
      "(107509, 48)\n",
      "Model...\n"
     ]
    },
    {
     "name": "stderr",
     "output_type": "stream",
     "text": [
      "/home/lau/.local/lib/python3.6/site-packages/sklearn/ensemble/forest.py:245: FutureWarning: The default value of n_estimators will change from 10 in version 0.20 to 100 in 0.22.\n",
      "  \"10 in version 0.20 to 100 in 0.22.\", FutureWarning)\n"
     ]
    },
    {
     "name": "stdout",
     "output_type": "stream",
     "text": [
      "Mean...\tPCA...\ttSNE...\n",
      "Brain_Cortex\t(60070, 48)\n",
      "(58167, 48)\n",
      "Model...\n"
     ]
    },
    {
     "name": "stderr",
     "output_type": "stream",
     "text": [
      "/home/lau/.local/lib/python3.6/site-packages/sklearn/ensemble/forest.py:245: FutureWarning: The default value of n_estimators will change from 10 in version 0.20 to 100 in 0.22.\n",
      "  \"10 in version 0.20 to 100 in 0.22.\", FutureWarning)\n"
     ]
    },
    {
     "name": "stdout",
     "output_type": "stream",
     "text": [
      "Mean...\tPCA...\ttSNE...\n",
      "Brain_Frontal_Cortex_BA9\t(40151, 48)\n",
      "(39085, 48)\n",
      "Model...\n"
     ]
    },
    {
     "name": "stderr",
     "output_type": "stream",
     "text": [
      "/home/lau/.local/lib/python3.6/site-packages/sklearn/ensemble/forest.py:245: FutureWarning: The default value of n_estimators will change from 10 in version 0.20 to 100 in 0.22.\n",
      "  \"10 in version 0.20 to 100 in 0.22.\", FutureWarning)\n"
     ]
    },
    {
     "name": "stdout",
     "output_type": "stream",
     "text": [
      "Mean...\tPCA...\ttSNE...\n",
      "Brain_Hippocampus\t(25905, 48)\n",
      "(25660, 48)\n",
      "Model...\n"
     ]
    },
    {
     "name": "stderr",
     "output_type": "stream",
     "text": [
      "/home/lau/.local/lib/python3.6/site-packages/sklearn/ensemble/forest.py:245: FutureWarning: The default value of n_estimators will change from 10 in version 0.20 to 100 in 0.22.\n",
      "  \"10 in version 0.20 to 100 in 0.22.\", FutureWarning)\n"
     ]
    },
    {
     "name": "stdout",
     "output_type": "stream",
     "text": [
      "Mean...\tPCA...\ttSNE...\n",
      "Brain_Hypothalamus\t(23653, 48)\n",
      "(23486, 48)\n",
      "Model...\n"
     ]
    },
    {
     "name": "stderr",
     "output_type": "stream",
     "text": [
      "/home/lau/.local/lib/python3.6/site-packages/sklearn/ensemble/forest.py:245: FutureWarning: The default value of n_estimators will change from 10 in version 0.20 to 100 in 0.22.\n",
      "  \"10 in version 0.20 to 100 in 0.22.\", FutureWarning)\n"
     ]
    },
    {
     "name": "stdout",
     "output_type": "stream",
     "text": [
      "Mean...\tPCA...\ttSNE...\n",
      "Brain_Nucleus_accumbens_basal_ganglia\t(42951, 48)\n",
      "(41939, 48)\n",
      "Model...\n"
     ]
    },
    {
     "name": "stderr",
     "output_type": "stream",
     "text": [
      "/home/lau/.local/lib/python3.6/site-packages/sklearn/ensemble/forest.py:245: FutureWarning: The default value of n_estimators will change from 10 in version 0.20 to 100 in 0.22.\n",
      "  \"10 in version 0.20 to 100 in 0.22.\", FutureWarning)\n"
     ]
    },
    {
     "name": "stdout",
     "output_type": "stream",
     "text": [
      "Mean...\tPCA...\ttSNE...\n",
      "Brain_Putamen_basal_ganglia\t(37727, 48)\n",
      "(36886, 48)\n",
      "Model...\n"
     ]
    },
    {
     "name": "stderr",
     "output_type": "stream",
     "text": [
      "/home/lau/.local/lib/python3.6/site-packages/sklearn/ensemble/forest.py:245: FutureWarning: The default value of n_estimators will change from 10 in version 0.20 to 100 in 0.22.\n",
      "  \"10 in version 0.20 to 100 in 0.22.\", FutureWarning)\n"
     ]
    },
    {
     "name": "stdout",
     "output_type": "stream",
     "text": [
      "Mean...\tPCA...\ttSNE...\n",
      "Brain_Spinal_cord_cervical_c-1\t(20138, 48)\n",
      "(19432, 48)\n",
      "Model...\n"
     ]
    },
    {
     "name": "stderr",
     "output_type": "stream",
     "text": [
      "/home/lau/.local/lib/python3.6/site-packages/sklearn/ensemble/forest.py:245: FutureWarning: The default value of n_estimators will change from 10 in version 0.20 to 100 in 0.22.\n",
      "  \"10 in version 0.20 to 100 in 0.22.\", FutureWarning)\n"
     ]
    },
    {
     "name": "stdout",
     "output_type": "stream",
     "text": [
      "Mean...\tPCA...\ttSNE...\n",
      "Brain_Substantia_nigra\t(14130, 48)\n",
      "(14035, 48)\n",
      "Model...\n"
     ]
    },
    {
     "name": "stderr",
     "output_type": "stream",
     "text": [
      "/home/lau/.local/lib/python3.6/site-packages/sklearn/ensemble/forest.py:245: FutureWarning: The default value of n_estimators will change from 10 in version 0.20 to 100 in 0.22.\n",
      "  \"10 in version 0.20 to 100 in 0.22.\", FutureWarning)\n"
     ]
    },
    {
     "name": "stdout",
     "output_type": "stream",
     "text": [
      "Mean...\tPCA...\ttSNE...\n",
      "Breast_Mammary_Tissue\t(108366, 48)\n",
      "(106960, 48)\n",
      "Model...\n"
     ]
    },
    {
     "name": "stderr",
     "output_type": "stream",
     "text": [
      "/home/lau/.local/lib/python3.6/site-packages/sklearn/ensemble/forest.py:245: FutureWarning: The default value of n_estimators will change from 10 in version 0.20 to 100 in 0.22.\n",
      "  \"10 in version 0.20 to 100 in 0.22.\", FutureWarning)\n"
     ]
    },
    {
     "name": "stdout",
     "output_type": "stream",
     "text": [
      "Mean...\tPCA...\ttSNE...\n",
      "Cells_Transformed_fibroblasts\t(220165, 48)\n",
      "(194410, 48)\n",
      "Model...\n"
     ]
    },
    {
     "name": "stderr",
     "output_type": "stream",
     "text": [
      "/home/lau/.local/lib/python3.6/site-packages/sklearn/ensemble/forest.py:245: FutureWarning: The default value of n_estimators will change from 10 in version 0.20 to 100 in 0.22.\n",
      "  \"10 in version 0.20 to 100 in 0.22.\", FutureWarning)\n"
     ]
    },
    {
     "name": "stdout",
     "output_type": "stream",
     "text": [
      "Mean...\tPCA...\ttSNE...\n",
      "Colon_Sigmoid\t(102121, 48)\n",
      "(100308, 48)\n",
      "Model...\n"
     ]
    },
    {
     "name": "stderr",
     "output_type": "stream",
     "text": [
      "/home/lau/.local/lib/python3.6/site-packages/sklearn/ensemble/forest.py:245: FutureWarning: The default value of n_estimators will change from 10 in version 0.20 to 100 in 0.22.\n",
      "  \"10 in version 0.20 to 100 in 0.22.\", FutureWarning)\n"
     ]
    },
    {
     "name": "stdout",
     "output_type": "stream",
     "text": [
      "Mean...\tPCA...\ttSNE...\n",
      "Colon_Transverse\t(120486, 48)\n",
      "(117117, 48)\n",
      "Model...\n"
     ]
    },
    {
     "name": "stderr",
     "output_type": "stream",
     "text": [
      "/home/lau/.local/lib/python3.6/site-packages/sklearn/ensemble/forest.py:245: FutureWarning: The default value of n_estimators will change from 10 in version 0.20 to 100 in 0.22.\n",
      "  \"10 in version 0.20 to 100 in 0.22.\", FutureWarning)\n"
     ]
    },
    {
     "name": "stdout",
     "output_type": "stream",
     "text": [
      "Mean...\tPCA...\ttSNE...\n",
      "Esophagus_Gastroesophageal_Junction\t(109172, 48)\n",
      "(106919, 48)\n",
      "Model...\n"
     ]
    },
    {
     "name": "stderr",
     "output_type": "stream",
     "text": [
      "/home/lau/.local/lib/python3.6/site-packages/sklearn/ensemble/forest.py:245: FutureWarning: The default value of n_estimators will change from 10 in version 0.20 to 100 in 0.22.\n",
      "  \"10 in version 0.20 to 100 in 0.22.\", FutureWarning)\n"
     ]
    },
    {
     "name": "stdout",
     "output_type": "stream",
     "text": [
      "Mean...\tPCA...\ttSNE...\n",
      "Esophagus_Mucosa\t(267180, 48)\n",
      "(239639, 48)\n",
      "Model...\n"
     ]
    },
    {
     "name": "stderr",
     "output_type": "stream",
     "text": [
      "/home/lau/.local/lib/python3.6/site-packages/sklearn/ensemble/forest.py:245: FutureWarning: The default value of n_estimators will change from 10 in version 0.20 to 100 in 0.22.\n",
      "  \"10 in version 0.20 to 100 in 0.22.\", FutureWarning)\n"
     ]
    },
    {
     "name": "stdout",
     "output_type": "stream",
     "text": [
      "Mean...\tPCA...\ttSNE...\n",
      "Esophagus_Muscularis\t(237992, 48)\n",
      "(223124, 48)\n",
      "Model...\n"
     ]
    },
    {
     "name": "stderr",
     "output_type": "stream",
     "text": [
      "/home/lau/.local/lib/python3.6/site-packages/sklearn/ensemble/forest.py:245: FutureWarning: The default value of n_estimators will change from 10 in version 0.20 to 100 in 0.22.\n",
      "  \"10 in version 0.20 to 100 in 0.22.\", FutureWarning)\n"
     ]
    },
    {
     "name": "stdout",
     "output_type": "stream",
     "text": [
      "Mean...\tPCA...\ttSNE...\n",
      "Heart_Atrial_Appendage\t(141676, 48)\n",
      "(136789, 48)\n",
      "Model...\n"
     ]
    },
    {
     "name": "stderr",
     "output_type": "stream",
     "text": [
      "/home/lau/.local/lib/python3.6/site-packages/sklearn/ensemble/forest.py:245: FutureWarning: The default value of n_estimators will change from 10 in version 0.20 to 100 in 0.22.\n",
      "  \"10 in version 0.20 to 100 in 0.22.\", FutureWarning)\n"
     ]
    },
    {
     "name": "stdout",
     "output_type": "stream",
     "text": [
      "Mean...\tPCA...\ttSNE...\n",
      "Heart_Left_Ventricle\t(141198, 48)\n",
      "(133052, 48)\n",
      "Model...\n"
     ]
    },
    {
     "name": "stderr",
     "output_type": "stream",
     "text": [
      "/home/lau/.local/lib/python3.6/site-packages/sklearn/ensemble/forest.py:245: FutureWarning: The default value of n_estimators will change from 10 in version 0.20 to 100 in 0.22.\n",
      "  \"10 in version 0.20 to 100 in 0.22.\", FutureWarning)\n"
     ]
    },
    {
     "name": "stdout",
     "output_type": "stream",
     "text": [
      "Mean...\tPCA...\ttSNE...\n",
      "Liver\t(49066, 48)\n",
      "(46713, 48)\n",
      "Model...\n"
     ]
    },
    {
     "name": "stderr",
     "output_type": "stream",
     "text": [
      "/home/lau/.local/lib/python3.6/site-packages/sklearn/ensemble/forest.py:245: FutureWarning: The default value of n_estimators will change from 10 in version 0.20 to 100 in 0.22.\n",
      "  \"10 in version 0.20 to 100 in 0.22.\", FutureWarning)\n"
     ]
    },
    {
     "name": "stdout",
     "output_type": "stream",
     "text": [
      "Mean...\tPCA...\ttSNE...\n",
      "Lung\t(230759, 48)\n",
      "(217555, 48)\n",
      "Model...\n"
     ]
    },
    {
     "name": "stderr",
     "output_type": "stream",
     "text": [
      "/home/lau/.local/lib/python3.6/site-packages/sklearn/ensemble/forest.py:245: FutureWarning: The default value of n_estimators will change from 10 in version 0.20 to 100 in 0.22.\n",
      "  \"10 in version 0.20 to 100 in 0.22.\", FutureWarning)\n"
     ]
    },
    {
     "name": "stdout",
     "output_type": "stream",
     "text": [
      "Mean...\tPCA...\ttSNE...\n",
      "Minor_Salivary_Gland\t(15816, 48)\n",
      "(15735, 48)\n",
      "Model...\n"
     ]
    },
    {
     "name": "stderr",
     "output_type": "stream",
     "text": [
      "/home/lau/.local/lib/python3.6/site-packages/sklearn/ensemble/forest.py:245: FutureWarning: The default value of n_estimators will change from 10 in version 0.20 to 100 in 0.22.\n",
      "  \"10 in version 0.20 to 100 in 0.22.\", FutureWarning)\n"
     ]
    },
    {
     "name": "stdout",
     "output_type": "stream",
     "text": [
      "Mean...\tPCA...\ttSNE...\n",
      "Muscle_Skeletal\t(263284, 48)\n",
      "(229906, 48)\n"
     ]
    },
    {
     "name": "stderr",
     "output_type": "stream",
     "text": [
      "/home/lau/.local/lib/python3.6/site-packages/sklearn/ensemble/forest.py:245: FutureWarning: The default value of n_estimators will change from 10 in version 0.20 to 100 in 0.22.\n",
      "  \"10 in version 0.20 to 100 in 0.22.\", FutureWarning)\n"
     ]
    },
    {
     "name": "stdout",
     "output_type": "stream",
     "text": [
      "Model...\n",
      "Mean...\tPCA...\ttSNE...\n",
      "Nerve_Tibial\t(291163, 48)\n",
      "(265583, 48)\n",
      "Model...\n"
     ]
    },
    {
     "name": "stderr",
     "output_type": "stream",
     "text": [
      "/home/lau/.local/lib/python3.6/site-packages/sklearn/ensemble/forest.py:245: FutureWarning: The default value of n_estimators will change from 10 in version 0.20 to 100 in 0.22.\n",
      "  \"10 in version 0.20 to 100 in 0.22.\", FutureWarning)\n"
     ]
    },
    {
     "name": "stdout",
     "output_type": "stream",
     "text": [
      "Mean...\tPCA...\ttSNE...\n",
      "Ovary\t(31815, 48)\n",
      "(31486, 48)\n",
      "Model...\n"
     ]
    },
    {
     "name": "stderr",
     "output_type": "stream",
     "text": [
      "/home/lau/.local/lib/python3.6/site-packages/sklearn/ensemble/forest.py:245: FutureWarning: The default value of n_estimators will change from 10 in version 0.20 to 100 in 0.22.\n",
      "  \"10 in version 0.20 to 100 in 0.22.\", FutureWarning)\n"
     ]
    },
    {
     "name": "stdout",
     "output_type": "stream",
     "text": [
      "Mean...\tPCA...\ttSNE...\n",
      "Pancreas\t(119797, 48)\n",
      "(113083, 48)\n",
      "Model...\n"
     ]
    },
    {
     "name": "stderr",
     "output_type": "stream",
     "text": [
      "/home/lau/.local/lib/python3.6/site-packages/sklearn/ensemble/forest.py:245: FutureWarning: The default value of n_estimators will change from 10 in version 0.20 to 100 in 0.22.\n",
      "  \"10 in version 0.20 to 100 in 0.22.\", FutureWarning)\n"
     ]
    },
    {
     "name": "stdout",
     "output_type": "stream",
     "text": [
      "Mean...\tPCA...\ttSNE...\n",
      "Pituitary\t(75518, 48)\n",
      "(73655, 48)\n",
      "Model...\n"
     ]
    },
    {
     "name": "stderr",
     "output_type": "stream",
     "text": [
      "/home/lau/.local/lib/python3.6/site-packages/sklearn/ensemble/forest.py:245: FutureWarning: The default value of n_estimators will change from 10 in version 0.20 to 100 in 0.22.\n",
      "  \"10 in version 0.20 to 100 in 0.22.\", FutureWarning)\n"
     ]
    },
    {
     "name": "stdout",
     "output_type": "stream",
     "text": [
      "Mean...\tPCA...\ttSNE...\n",
      "Prostate\t(31627, 48)\n",
      "(31217, 48)\n",
      "Model...\n"
     ]
    },
    {
     "name": "stderr",
     "output_type": "stream",
     "text": [
      "/home/lau/.local/lib/python3.6/site-packages/sklearn/ensemble/forest.py:245: FutureWarning: The default value of n_estimators will change from 10 in version 0.20 to 100 in 0.22.\n",
      "  \"10 in version 0.20 to 100 in 0.22.\", FutureWarning)\n"
     ]
    },
    {
     "name": "stdout",
     "output_type": "stream",
     "text": [
      "Mean...\tPCA...\ttSNE...\n",
      "Skin_Not_Sun_Exposed_Suprapubic\t(220798, 48)\n",
      "(202900, 48)\n",
      "Model...\n"
     ]
    },
    {
     "name": "stderr",
     "output_type": "stream",
     "text": [
      "/home/lau/.local/lib/python3.6/site-packages/sklearn/ensemble/forest.py:245: FutureWarning: The default value of n_estimators will change from 10 in version 0.20 to 100 in 0.22.\n",
      "  \"10 in version 0.20 to 100 in 0.22.\", FutureWarning)\n"
     ]
    },
    {
     "name": "stdout",
     "output_type": "stream",
     "text": [
      "Mean...\tPCA...\ttSNE...\n",
      "Skin_Sun_Exposed_Lower_leg\t(295816, 48)\n",
      "(262425, 48)\n",
      "Model...\n"
     ]
    },
    {
     "name": "stderr",
     "output_type": "stream",
     "text": [
      "/home/lau/.local/lib/python3.6/site-packages/sklearn/ensemble/forest.py:245: FutureWarning: The default value of n_estimators will change from 10 in version 0.20 to 100 in 0.22.\n",
      "  \"10 in version 0.20 to 100 in 0.22.\", FutureWarning)\n"
     ]
    },
    {
     "name": "stdout",
     "output_type": "stream",
     "text": [
      "Mean...\tPCA...\ttSNE...\n",
      "Small_Intestine_Terminal_Ileum\t(37641, 48)\n",
      "(36975, 48)\n",
      "Model...\n"
     ]
    },
    {
     "name": "stderr",
     "output_type": "stream",
     "text": [
      "/home/lau/.local/lib/python3.6/site-packages/sklearn/ensemble/forest.py:245: FutureWarning: The default value of n_estimators will change from 10 in version 0.20 to 100 in 0.22.\n",
      "  \"10 in version 0.20 to 100 in 0.22.\", FutureWarning)\n"
     ]
    },
    {
     "name": "stdout",
     "output_type": "stream",
     "text": [
      "Mean...\tPCA...\ttSNE...\n",
      "Spleen\t(69115, 48)\n",
      "(66949, 48)\n",
      "Model...\n"
     ]
    },
    {
     "name": "stderr",
     "output_type": "stream",
     "text": [
      "/home/lau/.local/lib/python3.6/site-packages/sklearn/ensemble/forest.py:245: FutureWarning: The default value of n_estimators will change from 10 in version 0.20 to 100 in 0.22.\n",
      "  \"10 in version 0.20 to 100 in 0.22.\", FutureWarning)\n"
     ]
    },
    {
     "name": "stdout",
     "output_type": "stream",
     "text": [
      "Mean...\tPCA...\ttSNE...\n",
      "Stomach\t(95970, 48)\n",
      "(93682, 48)\n",
      "Model...\n"
     ]
    },
    {
     "name": "stderr",
     "output_type": "stream",
     "text": [
      "/home/lau/.local/lib/python3.6/site-packages/sklearn/ensemble/forest.py:245: FutureWarning: The default value of n_estimators will change from 10 in version 0.20 to 100 in 0.22.\n",
      "  \"10 in version 0.20 to 100 in 0.22.\", FutureWarning)\n"
     ]
    },
    {
     "name": "stdout",
     "output_type": "stream",
     "text": [
      "Mean...\tPCA...\ttSNE...\n",
      "Testis\t(144951, 48)\n",
      "(129617, 48)\n",
      "Model...\n"
     ]
    },
    {
     "name": "stderr",
     "output_type": "stream",
     "text": [
      "/home/lau/.local/lib/python3.6/site-packages/sklearn/ensemble/forest.py:245: FutureWarning: The default value of n_estimators will change from 10 in version 0.20 to 100 in 0.22.\n",
      "  \"10 in version 0.20 to 100 in 0.22.\", FutureWarning)\n"
     ]
    },
    {
     "name": "stdout",
     "output_type": "stream",
     "text": [
      "Mean...\tPCA...\ttSNE...\n",
      "Thyroid\t(300403, 48)\n",
      "(267647, 48)\n",
      "Model...\n"
     ]
    },
    {
     "name": "stderr",
     "output_type": "stream",
     "text": [
      "/home/lau/.local/lib/python3.6/site-packages/sklearn/ensemble/forest.py:245: FutureWarning: The default value of n_estimators will change from 10 in version 0.20 to 100 in 0.22.\n",
      "  \"10 in version 0.20 to 100 in 0.22.\", FutureWarning)\n"
     ]
    },
    {
     "name": "stdout",
     "output_type": "stream",
     "text": [
      "Mean...\tPCA...\ttSNE...\n",
      "Uterus\t(19905, 48)\n",
      "(19788, 48)\n",
      "Model...\n"
     ]
    },
    {
     "name": "stderr",
     "output_type": "stream",
     "text": [
      "/home/lau/.local/lib/python3.6/site-packages/sklearn/ensemble/forest.py:245: FutureWarning: The default value of n_estimators will change from 10 in version 0.20 to 100 in 0.22.\n",
      "  \"10 in version 0.20 to 100 in 0.22.\", FutureWarning)\n"
     ]
    },
    {
     "name": "stdout",
     "output_type": "stream",
     "text": [
      "Mean...\tPCA...\ttSNE...\n",
      "Vagina\t(19039, 48)\n",
      "(18926, 48)\n",
      "Model...\n"
     ]
    },
    {
     "name": "stderr",
     "output_type": "stream",
     "text": [
      "/home/lau/.local/lib/python3.6/site-packages/sklearn/ensemble/forest.py:245: FutureWarning: The default value of n_estimators will change from 10 in version 0.20 to 100 in 0.22.\n",
      "  \"10 in version 0.20 to 100 in 0.22.\", FutureWarning)\n"
     ]
    },
    {
     "name": "stdout",
     "output_type": "stream",
     "text": [
      "Mean...\tPCA...\ttSNE...\n",
      "Whole_Blood\t(203605, 48)\n",
      "(177680, 48)\n",
      "Model...\n"
     ]
    },
    {
     "name": "stderr",
     "output_type": "stream",
     "text": [
      "/home/lau/.local/lib/python3.6/site-packages/sklearn/ensemble/forest.py:245: FutureWarning: The default value of n_estimators will change from 10 in version 0.20 to 100 in 0.22.\n",
      "  \"10 in version 0.20 to 100 in 0.22.\", FutureWarning)\n"
     ]
    },
    {
     "name": "stdout",
     "output_type": "stream",
     "text": [
      "Mean...\tPCA...\ttSNE...\n",
      "Cells_EBV-transformed_lymphocytes\t(48145, 48)\n",
      "(46321, 48)\n",
      "Model...\n"
     ]
    },
    {
     "name": "stderr",
     "output_type": "stream",
     "text": [
      "/home/lau/.local/lib/python3.6/site-packages/sklearn/ensemble/forest.py:245: FutureWarning: The default value of n_estimators will change from 10 in version 0.20 to 100 in 0.22.\n",
      "  \"10 in version 0.20 to 100 in 0.22.\", FutureWarning)\n"
     ]
    },
    {
     "name": "stdout",
     "output_type": "stream",
     "text": [
      "Mean...\tPCA...\ttSNE...\n"
     ]
    }
   ],
   "source": [
    "f_e = open('../data_RMSE_figure3.tab', 'w')\n",
    "f_r = open('../data_rval_figure3.tab', 'w')\n",
    "print(\"Tissue\\tn_eQTL\\tRF\\tmean\\tpca\\ttsne\", file=f_e)\n",
    "print(\"Tissue\\tn_eQTL\\tRF\\tmean\\tpca\\ttsne\", file=f_r)\n",
    "\n",
    "for tissue in eqtl_s.columns:\n",
    "    \n",
    "    print(tissue, end='\\t')\n",
    "    y_label = tissue\n",
    "    W = df_pc[y_label]\n",
    "    U = df_ts[y_label]\n",
    "\n",
    "\n",
    "    X_label = list(data.columns)\n",
    "    X_label.remove(y_label)\n",
    "\n",
    "    data = eqtl_s[np.invert(pd.isna(eqtl_s[y_label]))]\n",
    "    print(data.shape)\n",
    "    data = data[np.invert(pd.isna(data[X_label])).sum(axis=1) != 1]\n",
    "    print(data.shape)\n",
    "    \n",
    "    # Split data\n",
    "    X = data[X_label]\n",
    "    y = data[y_label]\n",
    "    X_train, X_test, y_train, y_test = train_test_split(X.fillna(0), y.fillna(0), test_size=0.3, random_state=12)\n",
    "\n",
    "    print('Model...')\n",
    "    # Model\n",
    "    model = RandomForestRegressor()\n",
    "    model = model.fit(X_train, y_train)\n",
    "    y_pred = model.predict(X_test)\n",
    "    \n",
    "    # Regression\n",
    "    x, y = y_test, y_pred\n",
    "    slope, intercept, r_value, p_value, std_err = linregress(x,y)\n",
    "    r_model = r_value\n",
    "    e_model = np.sqrt(mean_squared_error(x, y))\n",
    "    \n",
    "    \n",
    "    print('Mean...', end='\\t')\n",
    "    # Normal mean\n",
    "    mean = X[X_label].mean(axis=1).to_list()\n",
    "\n",
    "    # Regression\n",
    "    x, y = data[y_label], mean\n",
    "    slope, intercept, r_value, p_value, std_err = linregress(x,y)\n",
    "    r_mean = r_value\n",
    "    e_mean = np.sqrt(mean_squared_error(x, y))\n",
    "    \n",
    "    print('PCA...', end='\\t')\n",
    "    # PCA\n",
    "    weighted_mean = []\n",
    "    for i, r in X.iterrows():\n",
    "        w = W[r.keys()[np.invert(pd.isna(r))]]\n",
    "        w = w/w.sum()\n",
    "        m = 0\n",
    "        for t, v in r.iteritems():\n",
    "            if not pd.isna(v):\n",
    "                m +=  w[t]*v\n",
    "        weighted_mean.append(m)\n",
    "        \n",
    "    # Regression\n",
    "    x, y = data[y_label].values, weighted_mean\n",
    "    slope, intercept, r_value, p_value, std_err = linregress(x,y)\n",
    "    r_pca = r_value\n",
    "    e_pca = np.sqrt(mean_squared_error(x, y))\n",
    "    \n",
    "    print('tSNE...')\n",
    "    # tSNE\n",
    "    weighted_mean = []\n",
    "    for i, r in X.iterrows():\n",
    "        \n",
    "        u = U[r.keys()[np.invert(pd.isna(r))]]\n",
    "        u = u/u.sum()\n",
    "        m = 0\n",
    "        for t, v in r.iteritems():\n",
    "            if not pd.isna(v):\n",
    "                m +=  u[t]*v\n",
    "        weighted_mean.append(m)\n",
    "        \n",
    "    # Regression\n",
    "    x, y = data[y_label].values, weighted_mean\n",
    "    slope, intercept, r_value, p_value, std_err = linregress(x,y)\n",
    "    r_tsne = r_value\n",
    "    e_tsne = np.sqrt(mean_squared_error(x, y))\n",
    "\n",
    "    print(\"{}\\t{}\\t{:.4f}\\t{:.4f}\\t{:.4f}\\t{:.4f}\".format(y_label, data.shape[0], e_model, e_mean, e_pca, e_tsne), file=f_e)\n",
    "    print(\"{}\\t{}\\t{:.4f}\\t{:.4f}\\t{:.4f}\\t{:.4f}\".format(y_label, data.shape[0], r_model, r_mean, r_pca, r_tsne), file=f_r)\n",
    "\n",
    "f_e.close()\n",
    "f_r.close()"
   ]
  }
 ],
 "metadata": {
  "kernelspec": {
   "display_name": "Python 3",
   "language": "python",
   "name": "python3"
  },
  "language_info": {
   "codemirror_mode": {
    "name": "ipython",
    "version": 3
   },
   "file_extension": ".py",
   "mimetype": "text/x-python",
   "name": "python",
   "nbconvert_exporter": "python",
   "pygments_lexer": "ipython3",
   "version": "3.6.7"
  }
 },
 "nbformat": 4,
 "nbformat_minor": 2
}
