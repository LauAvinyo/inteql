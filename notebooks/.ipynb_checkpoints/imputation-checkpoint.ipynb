{
 "cells": [
  {
   "cell_type": "code",
   "execution_count": null,
   "metadata": {},
   "outputs": [],
   "source": [
    "import pandas as pd\n",
    "import numpy as np"
   ]
  },
  {
   "cell_type": "code",
   "execution_count": null,
   "metadata": {},
   "outputs": [],
   "source": [
    "eqtl_file = '../../TFG/github/GTEx_Analysis_v7_eQTL_allTissues_slope_top.csv.gz'"
   ]
  },
  {
   "cell_type": "code",
   "execution_count": null,
   "metadata": {},
   "outputs": [],
   "source": [
    "# Read eqtl\n",
    "eqtl = pd.read_csv(eqtl_file)\n",
    "eqtl = eqtl.drop(columns=['gene_id', 'variant_id'])\n",
    "print(eqtl.shape)\n",
    "eqtl.head()"
   ]
  },
  {
   "cell_type": "markdown",
   "metadata": {},
   "source": [
    "# Prepare for figure 2"
   ]
  },
  {
   "cell_type": "code",
   "execution_count": null,
   "metadata": {},
   "outputs": [],
   "source": [
    "# Get labels\n",
    "y_label = 'Cells_EBV-transformed_lymphocytes'\n",
    "X_label = list(i for i in eqtl.columns if i!=y_label)"
   ]
  },
  {
   "cell_type": "code",
   "execution_count": null,
   "metadata": {},
   "outputs": [],
   "source": [
    "# Get the data the eQTL for that tissue\n",
    "data = eqtl[np.invert(pd.isna(eqtl[y_label]))]\n",
    "# Get the eQTL that are not specific\n",
    "data = data[np.invert(pd.isna(data[X_label])).sum(axis=1) != 0]"
   ]
  },
  {
   "cell_type": "code",
   "execution_count": null,
   "metadata": {},
   "outputs": [],
   "source": [
    "mean = data[X_label].mean(axis=1)\n",
    "mean[:3]"
   ]
  },
  {
   "cell_type": "code",
   "execution_count": null,
   "metadata": {},
   "outputs": [],
   "source": [
    "howMany = np.invert(pd.isna(data[X_label])).sum(axis=1)\n",
    "print(howMany[:3])"
   ]
  },
  {
   "cell_type": "code",
   "execution_count": null,
   "metadata": {},
   "outputs": [],
   "source": [
    "pd.DataFrame({'RealValue':data[y_label], 'MeanImputed':mean, 'HowManyTissues':howMany}).to_csv('../data/Plotting/data_figure2.csv', index=False)"
   ]
  },
  {
   "cell_type": "markdown",
   "metadata": {},
   "source": [
    "# Prepare for figure 3"
   ]
  },
  {
   "cell_type": "code",
   "execution_count": null,
   "metadata": {},
   "outputs": [],
   "source": [
    "import os\n",
    "\n",
    "import rpy2.robjects as robjects\n",
    "from rpy2.robjects import pandas2ri\n",
    "pandas2ri.activate()\n",
    "readRDS = robjects.r['readRDS']\n",
    "\n",
    "from sklearn.metrics import pairwise_distances, mean_squared_error\n",
    "from sklearn.model_selection import train_test_split\n",
    "from sklearn.ensemble import ExtraTreesRegressor, RandomForestRegressor\n",
    "\n",
    "from scipy.stats import linregress, ttest_rel"
   ]
  },
  {
   "cell_type": "code",
   "execution_count": null,
   "metadata": {},
   "outputs": [],
   "source": [
    "tissues_id = []\n",
    "with open('../data/GTEx/Annotations/GTEx_v7_Annotations_TissuesId.txt') as f:\n",
    "    for line in f:\n",
    "        tissues_id.append(line.strip())"
   ]
  },
  {
   "cell_type": "markdown",
   "metadata": {},
   "source": [
    "### Weights by PCA"
   ]
  },
  {
   "cell_type": "code",
   "execution_count": null,
   "metadata": {},
   "outputs": [],
   "source": [
    "pc = readRDS('../objects/GTEx_Analysis_2016-01-15_v7_RNASeQCv1.1.8_gene_tpm_top_pcsX.rds')\n",
    "pc = pandas2ri.ri2py(pc)\n",
    "pc = pd.DataFrame(pc, columns=['PC1', 'PC2'])\n",
    "pc['tissue'] = tissues_id\n",
    "pc.head()"
   ]
  },
  {
   "cell_type": "code",
   "execution_count": null,
   "metadata": {},
   "outputs": [],
   "source": [
    "centroids_pc = pc.groupby('tissue')['PC1','PC2'].apply(np.mean)\n",
    "centroids_pc.shape"
   ]
  },
  {
   "cell_type": "code",
   "execution_count": null,
   "metadata": {},
   "outputs": [],
   "source": [
    "df_pc = pd.DataFrame(1/pairwise_distances(centroids_pc), columns=centroids_pc.index, index=centroids_pc.index).replace(np.inf, 0)"
   ]
  },
  {
   "cell_type": "markdown",
   "metadata": {},
   "source": [
    "### Weights by Tsne"
   ]
  },
  {
   "cell_type": "code",
   "execution_count": null,
   "metadata": {},
   "outputs": [],
   "source": [
    "ts = readRDS('../objects/GTEx_Analysis_2016-01-15_v7_RNASeQCv1.1.8_gene_tpm_top_tsne.rds')\n",
    "ts = pandas2ri.ri2py(ts)\n",
    "ts = pd.DataFrame(ts, columns=['x', 'y'])\n",
    "ts['tissue'] = tissues_id\n",
    "ts.head()"
   ]
  },
  {
   "cell_type": "code",
   "execution_count": null,
   "metadata": {},
   "outputs": [],
   "source": [
    "centroids_ts = ts.groupby('tissue')['x','y'].apply(np.mean)\n",
    "centroids_ts.shape"
   ]
  },
  {
   "cell_type": "code",
   "execution_count": null,
   "metadata": {},
   "outputs": [],
   "source": [
    "df_ts = pd.DataFrame(1/pairwise_distances(centroids_ts), columns=centroids_ts.index, index=centroids_ts.index).replace(np.inf, 0)"
   ]
  },
  {
   "cell_type": "code",
   "execution_count": null,
   "metadata": {},
   "outputs": [],
   "source": [
    "eqtl_s = eqtl[np.invert(pd.isna(eqtl)).sum(axis=1) != 1]\n",
    "print(eqtl_s.shape)\n",
    "eqtl.head()"
   ]
  },
  {
   "cell_type": "code",
   "execution_count": null,
   "metadata": {},
   "outputs": [],
   "source": [
    "f_e = open('../data/Plotting/data_RMSE_figure3.tab', 'w')\n",
    "f_r = open('../data/Plotting/data_rval_figure3.tab', 'w')\n",
    "print(\"Tissue\\tn_eQTL\\tRF\\tmean\\tpca\\ttsne\", file=f_e)\n",
    "print(\"Tissue\\tn_eQTL\\tRF\\tmean\\tpca\\ttsne\", file=f_r)\n",
    "\n",
    "for tissue in eqtl_s.columns:\n",
    "    \n",
    "    print(tissue, end='\\t')\n",
    "    y_label = tissue\n",
    "    W = df_pc[y_label]\n",
    "    U = df_ts[y_label]\n",
    "\n",
    "\n",
    "    X_label = list(data.columns)\n",
    "    X_label.remove(y_label)\n",
    "\n",
    "    data = eqtl_s[np.invert(pd.isna(eqtl_s[y_label]))]\n",
    "    print(data.shape)\n",
    "    data = data[np.invert(pd.isna(data[X_label])).sum(axis=1) != 1]\n",
    "    print(data.shape)\n",
    "    \n",
    "    # Split data\n",
    "    X = data[X_label]\n",
    "    y = data[y_label]\n",
    "    X_train, X_test, y_train, y_test = train_test_split(X.fillna(0), y.fillna(0), test_size=0.3, random_state=12)\n",
    "\n",
    "    print('Model...')\n",
    "    # Model\n",
    "    model = RandomForestRegressor()\n",
    "    model = model.fit(X_train, y_train)\n",
    "    y_pred = model.predict(X_test)\n",
    "    \n",
    "    # Regression\n",
    "    x, y = y_test, y_pred\n",
    "    slope, intercept, r_value, p_value, std_err = linregress(x,y)\n",
    "    r_model = r_value\n",
    "    e_model = np.sqrt(mean_squared_error(x, y))\n",
    "    \n",
    "    \n",
    "    print('Mean...', end='\\t')\n",
    "    # Normal mean\n",
    "    mean = X[X_label].mean(axis=1).to_list()\n",
    "\n",
    "    # Regression\n",
    "    x, y = data[y_label], mean\n",
    "    slope, intercept, r_value, p_value, std_err = linregress(x,y)\n",
    "    r_mean = r_value\n",
    "    e_mean = np.sqrt(mean_squared_error(x, y))\n",
    "    \n",
    "    print('PCA...', end='\\t')\n",
    "    # PCA\n",
    "    weighted_mean = []\n",
    "    for i, r in X.iterrows():\n",
    "        w = W[r.keys()[np.invert(pd.isna(r))]]\n",
    "        w = w/w.sum()\n",
    "        m = 0\n",
    "        for t, v in r.iteritems():\n",
    "            if not pd.isna(v):\n",
    "                m +=  w[t]*v\n",
    "        weighted_mean.append(m)\n",
    "        \n",
    "    # Regression\n",
    "    x, y = data[y_label].values, weighted_mean\n",
    "    slope, intercept, r_value, p_value, std_err = linregress(x,y)\n",
    "    r_pca = r_value\n",
    "    e_pca = np.sqrt(mean_squared_error(x, y))\n",
    "    \n",
    "    print('tSNE...')\n",
    "    # tSNE\n",
    "    weighted_mean = []\n",
    "    for i, r in X.iterrows():\n",
    "        \n",
    "        u = U[r.keys()[np.invert(pd.isna(r))]]\n",
    "        u = u/u.sum()\n",
    "        m = 0\n",
    "        for t, v in r.iteritems():\n",
    "            if not pd.isna(v):\n",
    "                m +=  u[t]*v\n",
    "        weighted_mean.append(m)\n",
    "        \n",
    "    # Regression\n",
    "    x, y = data[y_label].values, weighted_mean\n",
    "    slope, intercept, r_value, p_value, std_err = linregress(x,y)\n",
    "    r_tsne = r_value\n",
    "    e_tsne = np.sqrt(mean_squared_error(x, y))\n",
    "\n",
    "    print(\"{}\\t{}\\t{:.4f}\\t{:.4f}\\t{:.4f}\\t{:.4f}\".format(y_label, data.shape[0], e_model, e_mean, e_pca, e_tsne), file=f_e)\n",
    "    print(\"{}\\t{}\\t{:.4f}\\t{:.4f}\\t{:.4f}\\t{:.4f}\".format(y_label, data.shape[0], r_model, r_mean, r_pca, r_tsne), file=f_r)\n",
    "\n",
    "f_e.close()\n",
    "f_r.close()"
   ]
  }
 ],
 "metadata": {
  "kernelspec": {
   "display_name": "Python 3",
   "language": "python",
   "name": "python3"
  },
  "language_info": {
   "codemirror_mode": {
    "name": "ipython",
    "version": 3
   },
   "file_extension": ".py",
   "mimetype": "text/x-python",
   "name": "python",
   "nbconvert_exporter": "python",
   "pygments_lexer": "ipython3",
   "version": "3.6.7"
  }
 },
 "nbformat": 4,
 "nbformat_minor": 2
}
